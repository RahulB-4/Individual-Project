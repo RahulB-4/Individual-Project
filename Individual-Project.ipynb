{
 "cells": [
  {
   "cell_type": "markdown",
   "metadata": {},
   "source": [
    "# Investing in Movie Industry: Unlocking High Performing Genres"
   ]
  },
  {
   "cell_type": "markdown",
   "metadata": {},
   "source": [
    "| Individual Assignment                 | 2024-25 |\n",
    "| --------------------- | ----------------------- |\n",
    "| Level                 | 7 (Postgraduate)        |\n",
    "| Course name           | MSc Business Analytics  |\n",
    "| Module code           | MN5813                  |\n",
    "| Module tutor          | Alex Reppel             |\n",
    "| Assignment number     | 2 _(Individual assignment)_  |\n",
    "| Assignment title      | Investing in Movie Industry: Unlocking High Performing Genres  |"
   ]
  },
  {
   "cell_type": "markdown",
   "metadata": {},
   "source": [
    "| Candidate number                  |\n",
    "| ------------------------------------ |\n",
    "|2505080 |"
   ]
  },
  {
   "cell_type": "markdown",
   "metadata": {},
   "source": [
    "## Project summary / Literature review"
   ]
  },
  {
   "cell_type": "markdown",
   "metadata": {},
   "source": [
    "The data for this project is based on the movies dataset. A lot of academic articles have analysed similar datasets, focusing on different modes and techniques of analysis. The dataset can be used for analysis of sentiments, positive or negative reviews, of movies (Ali, Abd El Hamid, and Youssif, 2019), analysing data based on countries (Xiao, Cheng, and Kim, 2021), predicting movie grosses (Zhang, and Skiena, 2009), and analysing gender stereotypes in the movie industry (Kumar, Goh, Tan, and Siew, 2022). The focus of this project is to assist investors/producers in taking investment decisions which involves conducting analysis of ROI (Return On Investment) based on genres. ROI provides a simple tool for examining performance (Friedlob, and Plewa Jr, 1996). Therefore it is easier for investors to know how investments have performed in each of the top genres based on ROI."
   ]
  },
  {
   "cell_type": "markdown",
   "metadata": {},
   "source": [
    "## Generative AI"
   ]
  },
  {
   "cell_type": "markdown",
   "metadata": {},
   "source": [
    "Generative AI has been used in this project, but only to explore the various libraries and functions that can better assist in reaching the desired outcomes. The tool used is OpenAI ChatGPT (Version 2)."
   ]
  },
  {
   "cell_type": "markdown",
   "metadata": {},
   "source": [
    "## Introduction"
   ]
  },
  {
   "cell_type": "markdown",
   "metadata": {},
   "source": [
    "This project includes various actions such as data cleaning, data wrangling, data analysis, and data visualization on Python by importing the required libraries.\r\n",
    "\r\n",
    "One of the most important aspect that leads to the success of any movie is money/funding. But at the same time, since the investment amount in movies is generally high, it is important to take into account all the necessary details. Producers need a model that could help them in an attempt to reduce the risks of their investment going wrong (Sinha, Krishna, Shedge, and Sinha, 2017). Hence the aim of this project focuses on assisting investors/producers in making decisions when it comes to investing in the movie industry. \r\n",
    "\r\n",
    "To achieve this aim, the first objective is to analyse the profits of the movie industry over the years and check if it is a good decision to invest into the industry.\r\n",
    "\r\n",
    "Second, to interpret which genres provide the most Return on Investment (ROI).\r\n",
    "\r\n",
    "Third, to check the various aspects among those top genres to help answer questions such as what will be the budget/revenue of a particular genre, and what is the level of risk of that genre.\r\n",
    "\r\n",
    "This data will help reach the aim of this project and provide investors/producers with the required information of where and how much to invest.\r\n"
   ]
  },
  {
   "cell_type": "markdown",
   "metadata": {},
   "source": [
    "## Methodology"
   ]
  },
  {
   "cell_type": "markdown",
   "metadata": {},
   "source": [
    "This project has been completed by using various methods/techniques while performing data cleaning, data wrangling, data analysis, and data visualisation. \r\n",
    "\r\n",
    "Data cleaning: Various actions such as checking for duplicate entries, handling missing values, converting data type of columns and renaming columns. In order to perform these actions, functions such as duplicated().sum(), .fillna(), .astype(), .rename() were used respectively so that it is easier for readers to analyse cleaned data and eliminate unwanted data.\r\n",
    "\r\n",
    "Data wrangling: After cleaning the data, a new column was made called as “revenue_group” to make it easier to know the level of collection of each movie (high, medium or low). This was made by using pd.cut() and allotting bins and labels to the values. Another column was also created by combining two existing columns (movie name and genre) to provide information about each movie’s genre. Finally, to get the movie’s age pd.to_datetime() was utilized to get the current year and subtract it with the release date.\r\n",
    "\r\n",
    "Data analysis and Data visualisation: First, to analyse the profit of movies over the years, a “profit” column was created by subtracting values of “revenue” and “budget” columns. And using .groupby() to group profit by years. To visualise this, a seaborn line plot was created. Second, aonther column “return_on_investment” was created to calculate the top 10 ROI based on each genre by using .groupby() function and grouping with genre. An annotated seaborn bar plot was used for visualising this. Lastly, a new dataframe was created with only top 5 genres based on ROI and value_counts. The data of these 5 genres was compared to assist in gaining knowledge of the risk level involved in investing in these genres by using small multiples plot which is built on top of seaborn and matplotlib.\r\n"
   ]
  },
  {
   "cell_type": "markdown",
   "metadata": {},
   "source": [
    "## Setup"
   ]
  },
  {
   "cell_type": "markdown",
   "metadata": {},
   "source": [
    "### Steps to run this Notebook"
   ]
  },
  {
   "cell_type": "markdown",
   "metadata": {},
   "source": [
    "This notebook is available in a public repository which can be reached through the following link: https://github.com/RahulB-4/Individual-Project.git\n",
    "Download the file named \"Individual-Project.ipynb\" from the repository. The dataset used for this project is also available in the same repository under the name \"movies.csv\" which must also be downloaded.\n",
    "\n",
    "Alternatively, the dataset can also be downloaded from kaggle. \n",
    "Dataset link: https://www.kaggle.com/datasets/danielgrijalvas/movies\n",
    "\n",
    "After downloading the dataset, the following two files must be placed in one folder:-\n",
    "1. Individual-Project.ipynb\n",
    "2. movies.csv\n",
    "\n",
    "Once the file is run, the following outputs will be visible in the folder:-\n",
    "1. movies_cleaned.csv\n",
    "2. movies_2_cleaned.csv\n",
    "3. movies_3_cleaned.csv\n",
    "4. Three images in png format showcasing the visualisations."
   ]
  },
  {
   "cell_type": "markdown",
   "metadata": {},
   "source": [
    "### Import necessary libraries"
   ]
  },
  {
   "cell_type": "code",
   "execution_count": 16,
   "metadata": {},
   "outputs": [],
   "source": [
    "#Importing the necessary libraries.\n",
    "import pandas as pd\n",
    "import numpy as np"
   ]
  },
  {
   "cell_type": "markdown",
   "metadata": {},
   "source": [
    "### Load data"
   ]
  },
  {
   "cell_type": "code",
   "execution_count": 18,
   "metadata": {},
   "outputs": [],
   "source": [
    "data_source = \"https://www.kaggle.com/datasets/danielgrijalvas/movies\""
   ]
  },
  {
   "cell_type": "code",
   "execution_count": 19,
   "metadata": {},
   "outputs": [],
   "source": [
    "#Reading the dataset as a csv file. \n",
    "movies = pd.read_csv(\"movies.csv\")"
   ]
  },
  {
   "cell_type": "markdown",
   "metadata": {},
   "source": [
    "### Convert into DataFrame"
   ]
  },
  {
   "cell_type": "code",
   "execution_count": 21,
   "metadata": {},
   "outputs": [
    {
     "data": {
      "text/html": [
       "<div>\n",
       "<style scoped>\n",
       "    .dataframe tbody tr th:only-of-type {\n",
       "        vertical-align: middle;\n",
       "    }\n",
       "\n",
       "    .dataframe tbody tr th {\n",
       "        vertical-align: top;\n",
       "    }\n",
       "\n",
       "    .dataframe thead th {\n",
       "        text-align: right;\n",
       "    }\n",
       "</style>\n",
       "<table border=\"1\" class=\"dataframe\">\n",
       "  <thead>\n",
       "    <tr style=\"text-align: right;\">\n",
       "      <th></th>\n",
       "      <th>name</th>\n",
       "      <th>rating</th>\n",
       "      <th>genre</th>\n",
       "      <th>year</th>\n",
       "      <th>released</th>\n",
       "      <th>score</th>\n",
       "      <th>votes</th>\n",
       "      <th>director</th>\n",
       "      <th>writer</th>\n",
       "      <th>star</th>\n",
       "      <th>country</th>\n",
       "      <th>budget</th>\n",
       "      <th>gross</th>\n",
       "      <th>company</th>\n",
       "      <th>runtime</th>\n",
       "    </tr>\n",
       "  </thead>\n",
       "  <tbody>\n",
       "    <tr>\n",
       "      <th>0</th>\n",
       "      <td>The Shining</td>\n",
       "      <td>R</td>\n",
       "      <td>Drama</td>\n",
       "      <td>1980</td>\n",
       "      <td>June 13, 1980 (United States)</td>\n",
       "      <td>8.4</td>\n",
       "      <td>927000.0</td>\n",
       "      <td>Stanley Kubrick</td>\n",
       "      <td>Stephen King</td>\n",
       "      <td>Jack Nicholson</td>\n",
       "      <td>United Kingdom</td>\n",
       "      <td>19000000.0</td>\n",
       "      <td>46998772.0</td>\n",
       "      <td>Warner Bros.</td>\n",
       "      <td>146.0</td>\n",
       "    </tr>\n",
       "    <tr>\n",
       "      <th>1</th>\n",
       "      <td>The Blue Lagoon</td>\n",
       "      <td>R</td>\n",
       "      <td>Adventure</td>\n",
       "      <td>1980</td>\n",
       "      <td>July 2, 1980 (United States)</td>\n",
       "      <td>5.8</td>\n",
       "      <td>65000.0</td>\n",
       "      <td>Randal Kleiser</td>\n",
       "      <td>Henry De Vere Stacpoole</td>\n",
       "      <td>Brooke Shields</td>\n",
       "      <td>United States</td>\n",
       "      <td>4500000.0</td>\n",
       "      <td>58853106.0</td>\n",
       "      <td>Columbia Pictures</td>\n",
       "      <td>104.0</td>\n",
       "    </tr>\n",
       "    <tr>\n",
       "      <th>2</th>\n",
       "      <td>Star Wars: Episode V - The Empire Strikes Back</td>\n",
       "      <td>PG</td>\n",
       "      <td>Action</td>\n",
       "      <td>1980</td>\n",
       "      <td>June 20, 1980 (United States)</td>\n",
       "      <td>8.7</td>\n",
       "      <td>1200000.0</td>\n",
       "      <td>Irvin Kershner</td>\n",
       "      <td>Leigh Brackett</td>\n",
       "      <td>Mark Hamill</td>\n",
       "      <td>United States</td>\n",
       "      <td>18000000.0</td>\n",
       "      <td>538375067.0</td>\n",
       "      <td>Lucasfilm</td>\n",
       "      <td>124.0</td>\n",
       "    </tr>\n",
       "    <tr>\n",
       "      <th>3</th>\n",
       "      <td>Airplane!</td>\n",
       "      <td>PG</td>\n",
       "      <td>Comedy</td>\n",
       "      <td>1980</td>\n",
       "      <td>July 2, 1980 (United States)</td>\n",
       "      <td>7.7</td>\n",
       "      <td>221000.0</td>\n",
       "      <td>Jim Abrahams</td>\n",
       "      <td>Jim Abrahams</td>\n",
       "      <td>Robert Hays</td>\n",
       "      <td>United States</td>\n",
       "      <td>3500000.0</td>\n",
       "      <td>83453539.0</td>\n",
       "      <td>Paramount Pictures</td>\n",
       "      <td>88.0</td>\n",
       "    </tr>\n",
       "    <tr>\n",
       "      <th>4</th>\n",
       "      <td>Caddyshack</td>\n",
       "      <td>R</td>\n",
       "      <td>Comedy</td>\n",
       "      <td>1980</td>\n",
       "      <td>July 25, 1980 (United States)</td>\n",
       "      <td>7.3</td>\n",
       "      <td>108000.0</td>\n",
       "      <td>Harold Ramis</td>\n",
       "      <td>Brian Doyle-Murray</td>\n",
       "      <td>Chevy Chase</td>\n",
       "      <td>United States</td>\n",
       "      <td>6000000.0</td>\n",
       "      <td>39846344.0</td>\n",
       "      <td>Orion Pictures</td>\n",
       "      <td>98.0</td>\n",
       "    </tr>\n",
       "  </tbody>\n",
       "</table>\n",
       "</div>"
      ],
      "text/plain": [
       "                                             name rating      genre  year  \\\n",
       "0                                     The Shining      R      Drama  1980   \n",
       "1                                 The Blue Lagoon      R  Adventure  1980   \n",
       "2  Star Wars: Episode V - The Empire Strikes Back     PG     Action  1980   \n",
       "3                                       Airplane!     PG     Comedy  1980   \n",
       "4                                      Caddyshack      R     Comedy  1980   \n",
       "\n",
       "                        released  score      votes         director  \\\n",
       "0  June 13, 1980 (United States)    8.4   927000.0  Stanley Kubrick   \n",
       "1   July 2, 1980 (United States)    5.8    65000.0   Randal Kleiser   \n",
       "2  June 20, 1980 (United States)    8.7  1200000.0   Irvin Kershner   \n",
       "3   July 2, 1980 (United States)    7.7   221000.0     Jim Abrahams   \n",
       "4  July 25, 1980 (United States)    7.3   108000.0     Harold Ramis   \n",
       "\n",
       "                    writer            star         country      budget  \\\n",
       "0             Stephen King  Jack Nicholson  United Kingdom  19000000.0   \n",
       "1  Henry De Vere Stacpoole  Brooke Shields   United States   4500000.0   \n",
       "2           Leigh Brackett     Mark Hamill   United States  18000000.0   \n",
       "3             Jim Abrahams     Robert Hays   United States   3500000.0   \n",
       "4       Brian Doyle-Murray     Chevy Chase   United States   6000000.0   \n",
       "\n",
       "         gross             company  runtime  \n",
       "0   46998772.0        Warner Bros.    146.0  \n",
       "1   58853106.0   Columbia Pictures    104.0  \n",
       "2  538375067.0           Lucasfilm    124.0  \n",
       "3   83453539.0  Paramount Pictures     88.0  \n",
       "4   39846344.0      Orion Pictures     98.0  "
      ]
     },
     "execution_count": 21,
     "metadata": {},
     "output_type": "execute_result"
    }
   ],
   "source": [
    "#Checking if it has worked by generating the first 5 rows (.head()).\n",
    "movies.head()"
   ]
  },
  {
   "cell_type": "code",
   "execution_count": 22,
   "metadata": {},
   "outputs": [
    {
     "name": "stdout",
     "output_type": "stream",
     "text": [
      "<class 'pandas.core.frame.DataFrame'>\n",
      "RangeIndex: 7668 entries, 0 to 7667\n",
      "Data columns (total 15 columns):\n",
      " #   Column    Non-Null Count  Dtype  \n",
      "---  ------    --------------  -----  \n",
      " 0   name      7668 non-null   object \n",
      " 1   rating    7591 non-null   object \n",
      " 2   genre     7668 non-null   object \n",
      " 3   year      7668 non-null   int64  \n",
      " 4   released  7666 non-null   object \n",
      " 5   score     7665 non-null   float64\n",
      " 6   votes     7665 non-null   float64\n",
      " 7   director  7668 non-null   object \n",
      " 8   writer    7665 non-null   object \n",
      " 9   star      7667 non-null   object \n",
      " 10  country   7665 non-null   object \n",
      " 11  budget    5497 non-null   float64\n",
      " 12  gross     7479 non-null   float64\n",
      " 13  company   7651 non-null   object \n",
      " 14  runtime   7664 non-null   float64\n",
      "dtypes: float64(5), int64(1), object(9)\n",
      "memory usage: 898.7+ KB\n"
     ]
    }
   ],
   "source": [
    "#Checking the basic information (type) of each column.\n",
    "movies.info()"
   ]
  },
  {
   "cell_type": "markdown",
   "metadata": {},
   "source": [
    "## Data management"
   ]
  },
  {
   "cell_type": "markdown",
   "metadata": {},
   "source": [
    "### Data cleaning"
   ]
  },
  {
   "cell_type": "code",
   "execution_count": 25,
   "metadata": {},
   "outputs": [
    {
     "data": {
      "text/plain": [
       "0"
      ]
     },
     "execution_count": 25,
     "metadata": {},
     "output_type": "execute_result"
    }
   ],
   "source": [
    "#Checing the number of duplicates (if any) in the dataframe.\n",
    "movies.duplicated().sum()"
   ]
  },
  {
   "cell_type": "code",
   "execution_count": 26,
   "metadata": {},
   "outputs": [],
   "source": [
    "#Renaming the required columns for better clarity by using .rename().\n",
    "movies = movies.rename(columns = {\"name\": \"movie_name\", \"rating\": \"content_rating\", \"released\": \"release_date\", \"score\": \"IMDB_rating\", \"votes\": \"vote_count\", \"gross\": \"revenue\", \"company\": \"production_company\"})"
   ]
  },
  {
   "cell_type": "markdown",
   "metadata": {},
   "source": [
    "#### Handling missing values"
   ]
  },
  {
   "cell_type": "code",
   "execution_count": 28,
   "metadata": {},
   "outputs": [
    {
     "data": {
      "text/plain": [
       "movie_name               0\n",
       "content_rating          77\n",
       "genre                    0\n",
       "year                     0\n",
       "release_date             2\n",
       "IMDB_rating              3\n",
       "vote_count               3\n",
       "director                 0\n",
       "writer                   3\n",
       "star                     1\n",
       "country                  3\n",
       "budget                2171\n",
       "revenue                189\n",
       "production_company      17\n",
       "runtime                  4\n",
       "dtype: int64"
      ]
     },
     "execution_count": 28,
     "metadata": {},
     "output_type": "execute_result"
    }
   ],
   "source": [
    "#Checking for the number of missing values (if any) in each column.\n",
    "movies.isna().sum()"
   ]
  },
  {
   "cell_type": "code",
   "execution_count": 29,
   "metadata": {},
   "outputs": [],
   "source": [
    "#Filling the missing values of \"content_rating\" column as \"Not Rated\" by using .fillna().\n",
    "movies[\"content_rating\"] = movies[\"content_rating\"].fillna(\"Not Rated\")"
   ]
  },
  {
   "cell_type": "code",
   "execution_count": 30,
   "metadata": {},
   "outputs": [],
   "source": [
    "#Filling the missing values of \"release_date\" by using .loc[] and mentioning the index number as well as the column name.\n",
    "movies.loc[5728, \"release_date\"] = \"October 29, 2010 (United States)\"\n",
    "movies.loc[5730, \"release_date\"] = \"February 12, 2010 (United States)\""
   ]
  },
  {
   "cell_type": "markdown",
   "metadata": {},
   "source": [
    "The value/date being filled is taken from the official IMDB website. "
   ]
  },
  {
   "cell_type": "code",
   "execution_count": 32,
   "metadata": {},
   "outputs": [
    {
     "data": {
      "text/html": [
       "<div>\n",
       "<style scoped>\n",
       "    .dataframe tbody tr th:only-of-type {\n",
       "        vertical-align: middle;\n",
       "    }\n",
       "\n",
       "    .dataframe tbody tr th {\n",
       "        vertical-align: top;\n",
       "    }\n",
       "\n",
       "    .dataframe thead th {\n",
       "        text-align: right;\n",
       "    }\n",
       "</style>\n",
       "<table border=\"1\" class=\"dataframe\">\n",
       "  <thead>\n",
       "    <tr style=\"text-align: right;\">\n",
       "      <th></th>\n",
       "      <th>movie_name</th>\n",
       "      <th>content_rating</th>\n",
       "      <th>genre</th>\n",
       "      <th>year</th>\n",
       "      <th>release_date</th>\n",
       "      <th>IMDB_rating</th>\n",
       "      <th>vote_count</th>\n",
       "      <th>director</th>\n",
       "      <th>writer</th>\n",
       "      <th>star</th>\n",
       "      <th>country</th>\n",
       "      <th>budget</th>\n",
       "      <th>revenue</th>\n",
       "      <th>production_company</th>\n",
       "      <th>runtime</th>\n",
       "    </tr>\n",
       "  </thead>\n",
       "  <tbody>\n",
       "    <tr>\n",
       "      <th>7661</th>\n",
       "      <td>Love by Drowning</td>\n",
       "      <td>R</td>\n",
       "      <td>Drama</td>\n",
       "      <td>2020</td>\n",
       "      <td>November 6, 2020 (United States)</td>\n",
       "      <td>NaN</td>\n",
       "      <td>NaN</td>\n",
       "      <td>Justin Kreinbrink</td>\n",
       "      <td>C.E. Poverman</td>\n",
       "      <td>Nicky Whelan</td>\n",
       "      <td>United States</td>\n",
       "      <td>1000000.0</td>\n",
       "      <td>NaN</td>\n",
       "      <td>Dow Jazz Films</td>\n",
       "      <td>121.0</td>\n",
       "    </tr>\n",
       "    <tr>\n",
       "      <th>7662</th>\n",
       "      <td>The Robinsons</td>\n",
       "      <td>Not Rated</td>\n",
       "      <td>Action</td>\n",
       "      <td>2020</td>\n",
       "      <td>November 10, 2020 (United States)</td>\n",
       "      <td>NaN</td>\n",
       "      <td>NaN</td>\n",
       "      <td>Directors</td>\n",
       "      <td>Aleks Alifirenko Jr.</td>\n",
       "      <td>Billy Hartmann</td>\n",
       "      <td>United States</td>\n",
       "      <td>10000.0</td>\n",
       "      <td>NaN</td>\n",
       "      <td>NaN</td>\n",
       "      <td>90.0</td>\n",
       "    </tr>\n",
       "    <tr>\n",
       "      <th>7666</th>\n",
       "      <td>It's Just Us</td>\n",
       "      <td>Not Rated</td>\n",
       "      <td>Drama</td>\n",
       "      <td>2020</td>\n",
       "      <td>October 1, 2020 (United States)</td>\n",
       "      <td>NaN</td>\n",
       "      <td>NaN</td>\n",
       "      <td>James Randall</td>\n",
       "      <td>James Randall</td>\n",
       "      <td>Christina Roz</td>\n",
       "      <td>United States</td>\n",
       "      <td>15000.0</td>\n",
       "      <td>NaN</td>\n",
       "      <td>NaN</td>\n",
       "      <td>120.0</td>\n",
       "    </tr>\n",
       "  </tbody>\n",
       "</table>\n",
       "</div>"
      ],
      "text/plain": [
       "            movie_name content_rating   genre  year  \\\n",
       "7661  Love by Drowning              R   Drama  2020   \n",
       "7662     The Robinsons      Not Rated  Action  2020   \n",
       "7666      It's Just Us      Not Rated   Drama  2020   \n",
       "\n",
       "                           release_date  IMDB_rating  vote_count  \\\n",
       "7661   November 6, 2020 (United States)          NaN         NaN   \n",
       "7662  November 10, 2020 (United States)          NaN         NaN   \n",
       "7666    October 1, 2020 (United States)          NaN         NaN   \n",
       "\n",
       "               director                writer            star        country  \\\n",
       "7661  Justin Kreinbrink         C.E. Poverman    Nicky Whelan  United States   \n",
       "7662          Directors  Aleks Alifirenko Jr.  Billy Hartmann  United States   \n",
       "7666      James Randall         James Randall   Christina Roz  United States   \n",
       "\n",
       "         budget  revenue production_company  runtime  \n",
       "7661  1000000.0      NaN     Dow Jazz Films    121.0  \n",
       "7662    10000.0      NaN                NaN     90.0  \n",
       "7666    15000.0      NaN                NaN    120.0  "
      ]
     },
     "execution_count": 32,
     "metadata": {},
     "output_type": "execute_result"
    }
   ],
   "source": [
    "#Filling missing values of \"IMDB_rating\" the same way as there are only 3 missing values for this column.\n",
    "movies.loc[movies[\"IMDB_rating\"].isnull()]"
   ]
  },
  {
   "cell_type": "code",
   "execution_count": 33,
   "metadata": {},
   "outputs": [],
   "source": [
    "#Filling the missing values for \"IMDB_rating\" and \"vote_count\" by using .loc[] and mentioning the row and column name.\n",
    "movies.loc[7661, \"IMDB_rating\"] = 7.1\n",
    "movies.loc[7662, \"IMDB_rating\"] = 0\n",
    "movies.loc[7666, \"IMDB_rating\"] = 8.4 \n",
    "movies.loc[7661, \"vote_count\"] = 19\n",
    "movies.loc[7662, \"vote_count\"] = 0\n",
    "movies.loc[7666, \"vote_count\"] = 9"
   ]
  },
  {
   "cell_type": "markdown",
   "metadata": {},
   "source": [
    "Due to limited/no data available on the movie \"The Robinsons\"(2020), we can assume that no users have voted on IMDB. \n",
    "Hence we can fill the \"vote_count\" as well as \"IMDB_rating\" values for this movie as 0.\n",
    "\n",
    "When locating missing values for \"IMDB_rating\", missing values for \"vote_count\" is also found as they belonged to the same row and also had only 3 missing values.\n",
    "The values being filled have been taken from the official IMDB website."
   ]
  },
  {
   "cell_type": "code",
   "execution_count": 35,
   "metadata": {},
   "outputs": [
    {
     "data": {
      "text/html": [
       "<div>\n",
       "<style scoped>\n",
       "    .dataframe tbody tr th:only-of-type {\n",
       "        vertical-align: middle;\n",
       "    }\n",
       "\n",
       "    .dataframe tbody tr th {\n",
       "        vertical-align: top;\n",
       "    }\n",
       "\n",
       "    .dataframe thead th {\n",
       "        text-align: right;\n",
       "    }\n",
       "</style>\n",
       "<table border=\"1\" class=\"dataframe\">\n",
       "  <thead>\n",
       "    <tr style=\"text-align: right;\">\n",
       "      <th></th>\n",
       "      <th>movie_name</th>\n",
       "      <th>content_rating</th>\n",
       "      <th>genre</th>\n",
       "      <th>year</th>\n",
       "      <th>release_date</th>\n",
       "      <th>IMDB_rating</th>\n",
       "      <th>vote_count</th>\n",
       "      <th>director</th>\n",
       "      <th>writer</th>\n",
       "      <th>star</th>\n",
       "      <th>country</th>\n",
       "      <th>budget</th>\n",
       "      <th>revenue</th>\n",
       "      <th>production_company</th>\n",
       "      <th>runtime</th>\n",
       "    </tr>\n",
       "  </thead>\n",
       "  <tbody>\n",
       "    <tr>\n",
       "      <th>1820</th>\n",
       "      <td>The Garden</td>\n",
       "      <td>Unrated</td>\n",
       "      <td>Drama</td>\n",
       "      <td>1990</td>\n",
       "      <td>1990 (United States)</td>\n",
       "      <td>6.4</td>\n",
       "      <td>840.0</td>\n",
       "      <td>Derek Jarman</td>\n",
       "      <td>NaN</td>\n",
       "      <td>Tilda Swinton</td>\n",
       "      <td>United Kingdom</td>\n",
       "      <td>NaN</td>\n",
       "      <td>5006.0</td>\n",
       "      <td>Basilisk Communications</td>\n",
       "      <td>92.0</td>\n",
       "    </tr>\n",
       "    <tr>\n",
       "      <th>5834</th>\n",
       "      <td>The Trip</td>\n",
       "      <td>Not Rated</td>\n",
       "      <td>Comedy</td>\n",
       "      <td>2010</td>\n",
       "      <td>April 24, 2011 (Greece)</td>\n",
       "      <td>7.0</td>\n",
       "      <td>22000.0</td>\n",
       "      <td>Michael Winterbottom</td>\n",
       "      <td>NaN</td>\n",
       "      <td>Steve Coogan</td>\n",
       "      <td>United Kingdom</td>\n",
       "      <td>NaN</td>\n",
       "      <td>3945217.0</td>\n",
       "      <td>Baby Cow Productions</td>\n",
       "      <td>112.0</td>\n",
       "    </tr>\n",
       "    <tr>\n",
       "      <th>7655</th>\n",
       "      <td>Legend of Deification</td>\n",
       "      <td>TV-PG</td>\n",
       "      <td>Animation</td>\n",
       "      <td>2020</td>\n",
       "      <td>October 1, 2020 (United States)</td>\n",
       "      <td>6.6</td>\n",
       "      <td>1300.0</td>\n",
       "      <td>Teng Cheng</td>\n",
       "      <td>NaN</td>\n",
       "      <td>Guangtao Jiang</td>\n",
       "      <td>China</td>\n",
       "      <td>NaN</td>\n",
       "      <td>240663149.0</td>\n",
       "      <td>Beijing Enlight Pictures</td>\n",
       "      <td>110.0</td>\n",
       "    </tr>\n",
       "  </tbody>\n",
       "</table>\n",
       "</div>"
      ],
      "text/plain": [
       "                 movie_name content_rating      genre  year  \\\n",
       "1820             The Garden        Unrated      Drama  1990   \n",
       "5834               The Trip      Not Rated     Comedy  2010   \n",
       "7655  Legend of Deification          TV-PG  Animation  2020   \n",
       "\n",
       "                         release_date  IMDB_rating  vote_count  \\\n",
       "1820             1990 (United States)          6.4       840.0   \n",
       "5834          April 24, 2011 (Greece)          7.0     22000.0   \n",
       "7655  October 1, 2020 (United States)          6.6      1300.0   \n",
       "\n",
       "                  director writer            star         country  budget  \\\n",
       "1820          Derek Jarman    NaN   Tilda Swinton  United Kingdom     NaN   \n",
       "5834  Michael Winterbottom    NaN    Steve Coogan  United Kingdom     NaN   \n",
       "7655            Teng Cheng    NaN  Guangtao Jiang           China     NaN   \n",
       "\n",
       "          revenue        production_company  runtime  \n",
       "1820       5006.0   Basilisk Communications     92.0  \n",
       "5834    3945217.0      Baby Cow Productions    112.0  \n",
       "7655  240663149.0  Beijing Enlight Pictures    110.0  "
      ]
     },
     "execution_count": 35,
     "metadata": {},
     "output_type": "execute_result"
    }
   ],
   "source": [
    "#Locating the 3 missing values for \"writer\" in order to fill them after researching about those movies.\n",
    "movies.loc[movies[\"writer\"].isnull()]"
   ]
  },
  {
   "cell_type": "code",
   "execution_count": 36,
   "metadata": {},
   "outputs": [],
   "source": [
    "#Filling the missing values of \"writer\" by using .loc[] and mentioning the row and column name.\n",
    "movies.loc[1820, \"writer\"] = \"Derek Jarman\"\n",
    "movies.loc[5834, \"writer\"] = \"No Writer\"\n",
    "movies.loc[7655, \"writer\"] = \"Xu Zhonglin & Xie Xiying\""
   ]
  },
  {
   "cell_type": "markdown",
   "metadata": {},
   "source": [
    "\"The Trip\" movie has no credited writer as majority of the film is improvised according to IMDB. Hence we can fill this value with \"No Writer\".\n",
    "The values being filled have been taken from the official IMDB website."
   ]
  },
  {
   "cell_type": "code",
   "execution_count": 38,
   "metadata": {},
   "outputs": [
    {
     "data": {
      "text/html": [
       "<div>\n",
       "<style scoped>\n",
       "    .dataframe tbody tr th:only-of-type {\n",
       "        vertical-align: middle;\n",
       "    }\n",
       "\n",
       "    .dataframe tbody tr th {\n",
       "        vertical-align: top;\n",
       "    }\n",
       "\n",
       "    .dataframe thead th {\n",
       "        text-align: right;\n",
       "    }\n",
       "</style>\n",
       "<table border=\"1\" class=\"dataframe\">\n",
       "  <thead>\n",
       "    <tr style=\"text-align: right;\">\n",
       "      <th></th>\n",
       "      <th>movie_name</th>\n",
       "      <th>content_rating</th>\n",
       "      <th>genre</th>\n",
       "      <th>year</th>\n",
       "      <th>release_date</th>\n",
       "      <th>IMDB_rating</th>\n",
       "      <th>vote_count</th>\n",
       "      <th>director</th>\n",
       "      <th>writer</th>\n",
       "      <th>star</th>\n",
       "      <th>country</th>\n",
       "      <th>budget</th>\n",
       "      <th>revenue</th>\n",
       "      <th>production_company</th>\n",
       "      <th>runtime</th>\n",
       "    </tr>\n",
       "  </thead>\n",
       "  <tbody>\n",
       "    <tr>\n",
       "      <th>474</th>\n",
       "      <td>The Business of Show Business</td>\n",
       "      <td>Not Rated</td>\n",
       "      <td>History</td>\n",
       "      <td>1983</td>\n",
       "      <td>February 15, 1983 (Canada)</td>\n",
       "      <td>8.3</td>\n",
       "      <td>79.0</td>\n",
       "      <td>Tom Logan</td>\n",
       "      <td>Tom Logan</td>\n",
       "      <td>NaN</td>\n",
       "      <td>Canada</td>\n",
       "      <td>323562.0</td>\n",
       "      <td>NaN</td>\n",
       "      <td>CTV</td>\n",
       "      <td>55.0</td>\n",
       "    </tr>\n",
       "  </tbody>\n",
       "</table>\n",
       "</div>"
      ],
      "text/plain": [
       "                        movie_name content_rating    genre  year  \\\n",
       "474  The Business of Show Business      Not Rated  History  1983   \n",
       "\n",
       "                   release_date  IMDB_rating  vote_count   director  \\\n",
       "474  February 15, 1983 (Canada)          8.3        79.0  Tom Logan   \n",
       "\n",
       "        writer star country    budget  revenue production_company  runtime  \n",
       "474  Tom Logan  NaN  Canada  323562.0      NaN                CTV     55.0  "
      ]
     },
     "execution_count": 38,
     "metadata": {},
     "output_type": "execute_result"
    }
   ],
   "source": [
    "#Locating the 1 missing value for \"star\" to research and fill that missing value.\n",
    "movies.loc[movies[\"star\"].isnull()]"
   ]
  },
  {
   "cell_type": "code",
   "execution_count": 39,
   "metadata": {},
   "outputs": [],
   "source": [
    "#Filling the missing value of \"star\" by gaining information from the official IMDB website.\n",
    "movies[\"star\"] = movies[\"star\"].fillna(\"Tom Logan\")"
   ]
  },
  {
   "cell_type": "code",
   "execution_count": 40,
   "metadata": {},
   "outputs": [
    {
     "data": {
      "text/html": [
       "<div>\n",
       "<style scoped>\n",
       "    .dataframe tbody tr th:only-of-type {\n",
       "        vertical-align: middle;\n",
       "    }\n",
       "\n",
       "    .dataframe tbody tr th {\n",
       "        vertical-align: top;\n",
       "    }\n",
       "\n",
       "    .dataframe thead th {\n",
       "        text-align: right;\n",
       "    }\n",
       "</style>\n",
       "<table border=\"1\" class=\"dataframe\">\n",
       "  <thead>\n",
       "    <tr style=\"text-align: right;\">\n",
       "      <th></th>\n",
       "      <th>movie_name</th>\n",
       "      <th>content_rating</th>\n",
       "      <th>genre</th>\n",
       "      <th>year</th>\n",
       "      <th>release_date</th>\n",
       "      <th>IMDB_rating</th>\n",
       "      <th>vote_count</th>\n",
       "      <th>director</th>\n",
       "      <th>writer</th>\n",
       "      <th>star</th>\n",
       "      <th>country</th>\n",
       "      <th>budget</th>\n",
       "      <th>revenue</th>\n",
       "      <th>production_company</th>\n",
       "      <th>runtime</th>\n",
       "    </tr>\n",
       "  </thead>\n",
       "  <tbody>\n",
       "    <tr>\n",
       "      <th>5728</th>\n",
       "      <td>Saw: The Final Chapter</td>\n",
       "      <td>R</td>\n",
       "      <td>Crime</td>\n",
       "      <td>2010</td>\n",
       "      <td>October 29, 2010 (United States)</td>\n",
       "      <td>5.6</td>\n",
       "      <td>93000.0</td>\n",
       "      <td>Kevin Greutert</td>\n",
       "      <td>Patrick Melton</td>\n",
       "      <td>Tobin Bell</td>\n",
       "      <td>NaN</td>\n",
       "      <td>NaN</td>\n",
       "      <td>NaN</td>\n",
       "      <td>NaN</td>\n",
       "      <td>NaN</td>\n",
       "    </tr>\n",
       "    <tr>\n",
       "      <th>5730</th>\n",
       "      <td>The Wolfman</td>\n",
       "      <td>R</td>\n",
       "      <td>Drama</td>\n",
       "      <td>2010</td>\n",
       "      <td>February 12, 2010 (United States)</td>\n",
       "      <td>5.8</td>\n",
       "      <td>104000.0</td>\n",
       "      <td>Joe Johnston</td>\n",
       "      <td>Andrew Kevin Walker</td>\n",
       "      <td>Benicio Del Toro</td>\n",
       "      <td>NaN</td>\n",
       "      <td>NaN</td>\n",
       "      <td>NaN</td>\n",
       "      <td>NaN</td>\n",
       "      <td>NaN</td>\n",
       "    </tr>\n",
       "    <tr>\n",
       "      <th>7615</th>\n",
       "      <td>Clinton Road</td>\n",
       "      <td>Not Rated</td>\n",
       "      <td>Horror</td>\n",
       "      <td>2019</td>\n",
       "      <td>June 14, 2019 (United States)</td>\n",
       "      <td>5.9</td>\n",
       "      <td>1900.0</td>\n",
       "      <td>Richard Grieco</td>\n",
       "      <td>Noel Ashman</td>\n",
       "      <td>Ace Young</td>\n",
       "      <td>NaN</td>\n",
       "      <td>2500000.0</td>\n",
       "      <td>50400.0</td>\n",
       "      <td>Growing Tree Productions</td>\n",
       "      <td>77.0</td>\n",
       "    </tr>\n",
       "  </tbody>\n",
       "</table>\n",
       "</div>"
      ],
      "text/plain": [
       "                  movie_name content_rating   genre  year  \\\n",
       "5728  Saw: The Final Chapter              R   Crime  2010   \n",
       "5730             The Wolfman              R   Drama  2010   \n",
       "7615            Clinton Road      Not Rated  Horror  2019   \n",
       "\n",
       "                           release_date  IMDB_rating  vote_count  \\\n",
       "5728   October 29, 2010 (United States)          5.6     93000.0   \n",
       "5730  February 12, 2010 (United States)          5.8    104000.0   \n",
       "7615      June 14, 2019 (United States)          5.9      1900.0   \n",
       "\n",
       "            director               writer              star country  \\\n",
       "5728  Kevin Greutert       Patrick Melton        Tobin Bell     NaN   \n",
       "5730    Joe Johnston  Andrew Kevin Walker  Benicio Del Toro     NaN   \n",
       "7615  Richard Grieco          Noel Ashman         Ace Young     NaN   \n",
       "\n",
       "         budget  revenue        production_company  runtime  \n",
       "5728        NaN      NaN                       NaN      NaN  \n",
       "5730        NaN      NaN                       NaN      NaN  \n",
       "7615  2500000.0  50400.0  Growing Tree Productions     77.0  "
      ]
     },
     "execution_count": 40,
     "metadata": {},
     "output_type": "execute_result"
    }
   ],
   "source": [
    "#Locating the 3 missing values of \"country\" to research and fill them.\n",
    "movies.loc[movies[\"country\"].isnull()]"
   ]
  },
  {
   "cell_type": "code",
   "execution_count": 41,
   "metadata": {},
   "outputs": [],
   "source": [
    "#Filling the missing value of \"country\" by gaining information from the official IMDB website.\n",
    "movies[\"country\"] = movies[\"country\"].fillna(\"United States\")"
   ]
  },
  {
   "cell_type": "code",
   "execution_count": 42,
   "metadata": {},
   "outputs": [
    {
     "data": {
      "text/plain": [
       "0                    Warner Bros.\n",
       "1               Columbia Pictures\n",
       "2                       Lucasfilm\n",
       "3              Paramount Pictures\n",
       "4                  Orion Pictures\n",
       "                  ...            \n",
       "7663                      Unknown\n",
       "7664    Cactus Blue Entertainment\n",
       "7665             Embi Productions\n",
       "7666                      Unknown\n",
       "7667                  PK 65 Films\n",
       "Name: production_company, Length: 7668, dtype: object"
      ]
     },
     "execution_count": 42,
     "metadata": {},
     "output_type": "execute_result"
    }
   ],
   "source": [
    "#Filling the missing values of \"production_company\" column as \"Unknown\" by using .fillna().\n",
    "movies[\"production_company\"] = movies[\"production_company\"].fillna(\"Unknown\")\n",
    "movies[\"production_company\"]"
   ]
  },
  {
   "cell_type": "code",
   "execution_count": 43,
   "metadata": {},
   "outputs": [
    {
     "data": {
      "text/html": [
       "<div>\n",
       "<style scoped>\n",
       "    .dataframe tbody tr th:only-of-type {\n",
       "        vertical-align: middle;\n",
       "    }\n",
       "\n",
       "    .dataframe tbody tr th {\n",
       "        vertical-align: top;\n",
       "    }\n",
       "\n",
       "    .dataframe thead th {\n",
       "        text-align: right;\n",
       "    }\n",
       "</style>\n",
       "<table border=\"1\" class=\"dataframe\">\n",
       "  <thead>\n",
       "    <tr style=\"text-align: right;\">\n",
       "      <th></th>\n",
       "      <th>movie_name</th>\n",
       "      <th>content_rating</th>\n",
       "      <th>genre</th>\n",
       "      <th>year</th>\n",
       "      <th>release_date</th>\n",
       "      <th>IMDB_rating</th>\n",
       "      <th>vote_count</th>\n",
       "      <th>director</th>\n",
       "      <th>writer</th>\n",
       "      <th>star</th>\n",
       "      <th>country</th>\n",
       "      <th>budget</th>\n",
       "      <th>revenue</th>\n",
       "      <th>production_company</th>\n",
       "      <th>runtime</th>\n",
       "    </tr>\n",
       "  </thead>\n",
       "  <tbody>\n",
       "    <tr>\n",
       "      <th>5728</th>\n",
       "      <td>Saw: The Final Chapter</td>\n",
       "      <td>R</td>\n",
       "      <td>Crime</td>\n",
       "      <td>2010</td>\n",
       "      <td>October 29, 2010 (United States)</td>\n",
       "      <td>5.6</td>\n",
       "      <td>93000.0</td>\n",
       "      <td>Kevin Greutert</td>\n",
       "      <td>Patrick Melton</td>\n",
       "      <td>Tobin Bell</td>\n",
       "      <td>United States</td>\n",
       "      <td>NaN</td>\n",
       "      <td>NaN</td>\n",
       "      <td>Unknown</td>\n",
       "      <td>NaN</td>\n",
       "    </tr>\n",
       "    <tr>\n",
       "      <th>5730</th>\n",
       "      <td>The Wolfman</td>\n",
       "      <td>R</td>\n",
       "      <td>Drama</td>\n",
       "      <td>2010</td>\n",
       "      <td>February 12, 2010 (United States)</td>\n",
       "      <td>5.8</td>\n",
       "      <td>104000.0</td>\n",
       "      <td>Joe Johnston</td>\n",
       "      <td>Andrew Kevin Walker</td>\n",
       "      <td>Benicio Del Toro</td>\n",
       "      <td>United States</td>\n",
       "      <td>NaN</td>\n",
       "      <td>NaN</td>\n",
       "      <td>Unknown</td>\n",
       "      <td>NaN</td>\n",
       "    </tr>\n",
       "    <tr>\n",
       "      <th>6195</th>\n",
       "      <td>One for the Money</td>\n",
       "      <td>PG-13</td>\n",
       "      <td>Action</td>\n",
       "      <td>2012</td>\n",
       "      <td>January 27, 2012 (United States)</td>\n",
       "      <td>5.3</td>\n",
       "      <td>41000.0</td>\n",
       "      <td>Julie Anne Robinson</td>\n",
       "      <td>Stacy Sherman</td>\n",
       "      <td>Katherine Heigl</td>\n",
       "      <td>United States</td>\n",
       "      <td>40000000.0</td>\n",
       "      <td>38084162.0</td>\n",
       "      <td>Lakeshore Entertainment</td>\n",
       "      <td>NaN</td>\n",
       "    </tr>\n",
       "    <tr>\n",
       "      <th>7665</th>\n",
       "      <td>Saving Mbango</td>\n",
       "      <td>Not Rated</td>\n",
       "      <td>Drama</td>\n",
       "      <td>2020</td>\n",
       "      <td>April 27, 2020 (Cameroon)</td>\n",
       "      <td>5.7</td>\n",
       "      <td>29.0</td>\n",
       "      <td>Nkanya Nkwai</td>\n",
       "      <td>Lynno Lovert</td>\n",
       "      <td>Onyama Laura</td>\n",
       "      <td>United States</td>\n",
       "      <td>58750.0</td>\n",
       "      <td>NaN</td>\n",
       "      <td>Embi Productions</td>\n",
       "      <td>NaN</td>\n",
       "    </tr>\n",
       "  </tbody>\n",
       "</table>\n",
       "</div>"
      ],
      "text/plain": [
       "                  movie_name content_rating   genre  year  \\\n",
       "5728  Saw: The Final Chapter              R   Crime  2010   \n",
       "5730             The Wolfman              R   Drama  2010   \n",
       "6195       One for the Money          PG-13  Action  2012   \n",
       "7665           Saving Mbango      Not Rated   Drama  2020   \n",
       "\n",
       "                           release_date  IMDB_rating  vote_count  \\\n",
       "5728   October 29, 2010 (United States)          5.6     93000.0   \n",
       "5730  February 12, 2010 (United States)          5.8    104000.0   \n",
       "6195   January 27, 2012 (United States)          5.3     41000.0   \n",
       "7665          April 27, 2020 (Cameroon)          5.7        29.0   \n",
       "\n",
       "                 director               writer              star  \\\n",
       "5728       Kevin Greutert       Patrick Melton        Tobin Bell   \n",
       "5730         Joe Johnston  Andrew Kevin Walker  Benicio Del Toro   \n",
       "6195  Julie Anne Robinson        Stacy Sherman   Katherine Heigl   \n",
       "7665         Nkanya Nkwai         Lynno Lovert      Onyama Laura   \n",
       "\n",
       "            country      budget     revenue       production_company  runtime  \n",
       "5728  United States         NaN         NaN                  Unknown      NaN  \n",
       "5730  United States         NaN         NaN                  Unknown      NaN  \n",
       "6195  United States  40000000.0  38084162.0  Lakeshore Entertainment      NaN  \n",
       "7665  United States     58750.0         NaN         Embi Productions      NaN  "
      ]
     },
     "execution_count": 43,
     "metadata": {},
     "output_type": "execute_result"
    }
   ],
   "source": [
    "#Locating the 4 missing values of \"runtime\" to research and fill them.\n",
    "movies.loc[movies[\"runtime\"].isnull()]"
   ]
  },
  {
   "cell_type": "code",
   "execution_count": 44,
   "metadata": {},
   "outputs": [],
   "source": [
    "#Filling the missing values of \"runtime\" column by using .loc[] and mentioning the row and column name.\n",
    "movies.loc[5728, \"runtime\"] = 90\n",
    "movies.loc[5730, \"runtime\"] = 103\n",
    "movies.loc[6195, \"runtime\"] = 91\n",
    "movies.loc[7665, \"runtime\"] = 110"
   ]
  },
  {
   "cell_type": "markdown",
   "metadata": {},
   "source": [
    "The \"runtime\" values being filled have been taken from the official IMDB website."
   ]
  },
  {
   "cell_type": "code",
   "execution_count": 46,
   "metadata": {},
   "outputs": [],
   "source": [
    "#Here, .groupby() groups the data based on the \"genre\", and \"year\" columns.\n",
    "#.transform(\"median\") applies the median value (In this case, median \"budget\" value) while keeping the original dataframe shape.\n",
    "#This grouped median value then replaces the missing budget values by using .fillna().\n",
    "median_budget = movies.groupby([\"genre\", \"year\"])[\"budget\"].transform(\"median\")\n",
    "movies[\"budget\"] = movies[\"budget\"].fillna(median_budget)"
   ]
  },
  {
   "cell_type": "markdown",
   "metadata": {},
   "source": [
    "The reason for taking median is because the budget column had fluctuating values which would influence the mean value (if mean would be considered).\n",
    "Genre is considered because comedy only movies require high budget whereas documentary, horror or thriller require lower budgets (Kim and Kim, 2018).\n",
    "Year makes a difference because of inflation."
   ]
  },
  {
   "cell_type": "code",
   "execution_count": 48,
   "metadata": {},
   "outputs": [],
   "source": [
    "#If there is not enough evidence for median values to be generated based on the grouped columns, those values will not be generated. So now the grouped columns must be altered.\n",
    "median_budget = movies.groupby([\"star\"])[\"budget\"].transform(\"median\")\n",
    "movies[\"budget\"] = movies[\"budget\"].fillna(median_budget)"
   ]
  },
  {
   "cell_type": "markdown",
   "metadata": {},
   "source": [
    "Budget has been grouped by star because big stars charge high fees which increases the budget (Ravid, 1999)."
   ]
  },
  {
   "cell_type": "code",
   "execution_count": 50,
   "metadata": {},
   "outputs": [],
   "source": [
    "#But there are still missing values, so:-\n",
    "median_budget = movies.groupby([\"production_company\"])[\"budget\"].transform(\"median\")\n",
    "movies[\"budget\"] = movies[\"budget\"].fillna(median_budget)"
   ]
  },
  {
   "cell_type": "markdown",
   "metadata": {},
   "source": [
    "Big production companies are able to make movies with higher budgets as they have managed to increase thier revenue through external aspects like theme parks, merchandising, and others (Scott, 2002)."
   ]
  },
  {
   "cell_type": "code",
   "execution_count": 52,
   "metadata": {},
   "outputs": [
    {
     "data": {
      "text/plain": [
       "0       19000000.0\n",
       "1        4500000.0\n",
       "2       18000000.0\n",
       "3        3500000.0\n",
       "4        6000000.0\n",
       "           ...    \n",
       "7663        7000.0\n",
       "7664    59500000.0\n",
       "7665       58750.0\n",
       "7666       15000.0\n",
       "7667    15250000.0\n",
       "Name: budget, Length: 7668, dtype: float64"
      ]
     },
     "execution_count": 52,
     "metadata": {},
     "output_type": "execute_result"
    }
   ],
   "source": [
    "#Finally, we group by the \"country\" column.\n",
    "median_budget = movies.groupby([\"country\"])[\"budget\"].transform(\"median\")\n",
    "movies[\"budget\"] = movies[\"budget\"].fillna(median_budget)\n",
    "movies[\"budget\"]"
   ]
  },
  {
   "cell_type": "markdown",
   "metadata": {},
   "source": [
    "American films have high budget due to the investors trusting the projects. The same is not the case for other countries (Teti, 2013). Hence, the budget of movies depends on \"country\" values as well. "
   ]
  },
  {
   "cell_type": "code",
   "execution_count": 54,
   "metadata": {},
   "outputs": [],
   "source": [
    "#Now we do the same to fill the missing \"revenue\" values.\n",
    "median_revenue = movies.groupby([\"year\", \"genre\"])[\"revenue\"].transform(\"median\")\n",
    "movies[\"revenue\"] = movies[\"revenue\"].fillna(median_revenue) "
   ]
  },
  {
   "cell_type": "markdown",
   "metadata": {},
   "source": [
    "The reason for taking median is because the revenue column had fluctuating values which would influence the mean value (if mean would be considered).\n",
    "The reason for grouping with genre is because consumer choices depend on factors among which genre exists (Garcia-del-Barrio and Zarco, 2017).\n",
    "The mean annual revenue in 1991, USA, was 20.4 million while in 1997 it was 30.6 million (Teti, 2013). Hence year also plays a role in revenue."
   ]
  },
  {
   "cell_type": "code",
   "execution_count": 56,
   "metadata": {},
   "outputs": [],
   "source": [
    "#Altering the grouped columns:-\n",
    "median_revenue = movies.groupby([\"budget\", \"star\"])[\"revenue\"].transform(\"median\")\n",
    "movies[\"revenue\"] = movies[\"revenue\"].fillna(median_revenue)"
   ]
  },
  {
   "cell_type": "markdown",
   "metadata": {},
   "source": [
    "The box office revenue fluctuates depending on the budget as well as the star of the movie (Garcia-del-Barrio and Zarco, 2017). Therefore revenue has been grouped by \"budget\" and \"star\"."
   ]
  },
  {
   "cell_type": "code",
   "execution_count": 58,
   "metadata": {},
   "outputs": [
    {
     "data": {
      "text/plain": [
       "0        46998772.0\n",
       "1        58853106.0\n",
       "2       538375067.0\n",
       "3        83453539.0\n",
       "4        39846344.0\n",
       "           ...     \n",
       "7663     84484941.0\n",
       "7664       413378.0\n",
       "7665     84484941.0\n",
       "7666     84484941.0\n",
       "7667        13266.0\n",
       "Name: revenue, Length: 7668, dtype: float64"
      ]
     },
     "execution_count": 58,
     "metadata": {},
     "output_type": "execute_result"
    }
   ],
   "source": [
    "#But there are still missing \"revenue\" values so:-\n",
    "median_revenue = movies.groupby([\"country\"])[\"revenue\"].transform(\"median\")\n",
    "movies[\"revenue\"] = movies[\"revenue\"].fillna(median_revenue)\n",
    "movies[\"revenue\"]"
   ]
  },
  {
   "cell_type": "markdown",
   "metadata": {},
   "source": [
    "\"country\" is taken into account as the total revenue highly depends on the geographical location as United States, Canada, Australia, France, Germany, Mexico, Spain, and the United Kingdom collectively account for over 75% of worldwide cinema box-office revenue (Walls and McKenzie, 2012)."
   ]
  },
  {
   "cell_type": "code",
   "execution_count": 60,
   "metadata": {},
   "outputs": [
    {
     "data": {
      "text/plain": [
       "movie_name            0\n",
       "content_rating        0\n",
       "genre                 0\n",
       "year                  0\n",
       "release_date          0\n",
       "IMDB_rating           0\n",
       "vote_count            0\n",
       "director              0\n",
       "writer                0\n",
       "star                  0\n",
       "country               0\n",
       "budget                0\n",
       "revenue               0\n",
       "production_company    0\n",
       "runtime               0\n",
       "dtype: int64"
      ]
     },
     "execution_count": 60,
     "metadata": {},
     "output_type": "execute_result"
    }
   ],
   "source": [
    "#Checking if all the missing values have been filled.\n",
    "movies.isna().sum()"
   ]
  },
  {
   "cell_type": "markdown",
   "metadata": {},
   "source": [
    "#### Additional cleaning and data type conversion"
   ]
  },
  {
   "cell_type": "code",
   "execution_count": 62,
   "metadata": {},
   "outputs": [],
   "source": [
    "#.apply(lambda x: f\"{x // 1000}\" if x % 1000 == 0 else f\"{x / 1000: .1f}\") this code applies the lambda function where the value is divided by 1,000 and if it is divisible by 1,000, result will be a whole number, else result will be a float with one decimal number.\n",
    "#.astype(float) converts the data type to float.\n",
    "movies[\"vote_count\"] = movies[\"vote_count\"].apply(lambda x: f\"{x // 1000}\" if x % 1000 == 0 else f\"{x / 1000: .1f}\")"
   ]
  },
  {
   "cell_type": "markdown",
   "metadata": {},
   "source": [
    "Converting the \"vote_count\" column into thousands by using lambda function for ease in reading the values."
   ]
  },
  {
   "cell_type": "code",
   "execution_count": 64,
   "metadata": {},
   "outputs": [
    {
     "data": {
      "text/plain": [
       "0        927.0\n",
       "1         65.0\n",
       "2       1200.0\n",
       "3        221.0\n",
       "4        108.0\n",
       "         ...  \n",
       "7663       0.0\n",
       "7664       0.0\n",
       "7665       0.0\n",
       "7666       0.0\n",
       "7667       0.0\n",
       "Name: vote_count, Length: 7668, dtype: object"
      ]
     },
     "execution_count": 64,
     "metadata": {},
     "output_type": "execute_result"
    }
   ],
   "source": [
    "#Checking if the above code has worked.\n",
    "movies[\"vote_count\"]"
   ]
  },
  {
   "cell_type": "code",
   "execution_count": 65,
   "metadata": {},
   "outputs": [],
   "source": [
    "#.apply(lambda x: f\"{x // 1000000}\" if x % 1000000 == 0 else f\"{x / 1000000: .1f}\") this code applies the lambda function where the value is divided by 1,000,000 and if it is divisible by 1,000,000, result will be a whole number, else result will be a float with one decimal number.\n",
    "#.astype(float) converts the data type to float.\n",
    "movies[\"budget\"] = movies[\"budget\"].apply(lambda x: f\"{x // 1000000}\" if x % 1000000 == 0 else f\"{x / 1000000: .1f}\")\n",
    "movies[\"budget\"] = movies[\"budget\"].astype(float)"
   ]
  },
  {
   "cell_type": "markdown",
   "metadata": {},
   "source": [
    "Converting the \"budget\" column into millions by using lambda function for ease in reading the values. After which the column is also converted into float to enable various actions that can be performed."
   ]
  },
  {
   "cell_type": "code",
   "execution_count": 67,
   "metadata": {},
   "outputs": [
    {
     "data": {
      "text/plain": [
       "0       19.0\n",
       "1        4.5\n",
       "2       18.0\n",
       "3        3.5\n",
       "4        6.0\n",
       "        ... \n",
       "7663     0.0\n",
       "7664    59.5\n",
       "7665     0.1\n",
       "7666     0.0\n",
       "7667    15.2\n",
       "Name: budget, Length: 7668, dtype: float64"
      ]
     },
     "execution_count": 67,
     "metadata": {},
     "output_type": "execute_result"
    }
   ],
   "source": [
    "#Checing if the above code worked.\n",
    "movies[\"budget\"]"
   ]
  },
  {
   "cell_type": "code",
   "execution_count": 68,
   "metadata": {},
   "outputs": [],
   "source": [
    "#.apply(lambda x: f\"{x // 1000000}\" if x % 1000000 == 0 else f\"{x / 1000000: .1f}\") this code applies the lambda function where the value is divided by 1,000,000 and if it is divisible by 1,000,000, result will be a whole number, else result will be a float with one decimal number.\n",
    "movies[\"revenue\"] = movies[\"revenue\"].apply(lambda x: f\"{x // 1000000}\" if x % 1000000 == 0 else f\"{x / 1000000: .1f}\")"
   ]
  },
  {
   "cell_type": "code",
   "execution_count": 69,
   "metadata": {},
   "outputs": [
    {
     "data": {
      "text/plain": [
       "0        47.0\n",
       "1        58.9\n",
       "2       538.4\n",
       "3        83.5\n",
       "4        39.8\n",
       "        ...  \n",
       "7663     84.5\n",
       "7664      0.4\n",
       "7665     84.5\n",
       "7666     84.5\n",
       "7667      0.0\n",
       "Name: revenue, Length: 7668, dtype: float64"
      ]
     },
     "execution_count": 69,
     "metadata": {},
     "output_type": "execute_result"
    }
   ],
   "source": [
    "movies[\"revenue\"] = movies[\"revenue\"].astype(float)\n",
    "movies[\"revenue\"]"
   ]
  },
  {
   "cell_type": "markdown",
   "metadata": {},
   "source": [
    "Converting the \"revenue\" column into millions by using lambda function for ease in reading the values. After which the column is also converted into float to enable performing of various actions."
   ]
  },
  {
   "cell_type": "code",
   "execution_count": 71,
   "metadata": {},
   "outputs": [],
   "source": [
    "#Renaming the \"vote_count\", \"budget\", and \"revenue\" columns by adding (in thousands), (in millions), and (in millions) to the column names respectively.\n",
    "movies = movies.rename(columns = {\"vote_count\": \"vote_count (in thousands)\", \"budget\": \"budget (in millions)\", \"revenue\": \"revenue (in millions)\"})"
   ]
  },
  {
   "cell_type": "code",
   "execution_count": 72,
   "metadata": {},
   "outputs": [
    {
     "data": {
      "text/plain": [
       "0       146\n",
       "1       104\n",
       "2       124\n",
       "3        88\n",
       "4        98\n",
       "       ... \n",
       "7663     90\n",
       "7664     90\n",
       "7665    110\n",
       "7666    120\n",
       "7667    102\n",
       "Name: runtime, Length: 7668, dtype: int32"
      ]
     },
     "execution_count": 72,
     "metadata": {},
     "output_type": "execute_result"
    }
   ],
   "source": [
    "#Converting the \"runtime\" column into integer type.\n",
    "movies[\"runtime\"] = movies[\"runtime\"].astype(int)\n",
    "movies[\"runtime\"]"
   ]
  },
  {
   "cell_type": "markdown",
   "metadata": {},
   "source": [
    "### Data wrangling"
   ]
  },
  {
   "cell_type": "code",
   "execution_count": 74,
   "metadata": {},
   "outputs": [
    {
     "data": {
      "text/plain": [
       "2847.2"
      ]
     },
     "execution_count": 74,
     "metadata": {},
     "output_type": "execute_result"
    }
   ],
   "source": [
    "#Checking maximum revenue to create bins and labels accordingly.\n",
    "movies[\"revenue (in millions)\"].max()"
   ]
  },
  {
   "cell_type": "code",
   "execution_count": 75,
   "metadata": {},
   "outputs": [
    {
     "data": {
      "text/html": [
       "<div>\n",
       "<style scoped>\n",
       "    .dataframe tbody tr th:only-of-type {\n",
       "        vertical-align: middle;\n",
       "    }\n",
       "\n",
       "    .dataframe tbody tr th {\n",
       "        vertical-align: top;\n",
       "    }\n",
       "\n",
       "    .dataframe thead th {\n",
       "        text-align: right;\n",
       "    }\n",
       "</style>\n",
       "<table border=\"1\" class=\"dataframe\">\n",
       "  <thead>\n",
       "    <tr style=\"text-align: right;\">\n",
       "      <th></th>\n",
       "      <th>movie_name</th>\n",
       "      <th>content_rating</th>\n",
       "      <th>genre</th>\n",
       "      <th>year</th>\n",
       "      <th>release_date</th>\n",
       "      <th>IMDB_rating</th>\n",
       "      <th>vote_count (in thousands)</th>\n",
       "      <th>director</th>\n",
       "      <th>writer</th>\n",
       "      <th>star</th>\n",
       "      <th>country</th>\n",
       "      <th>budget (in millions)</th>\n",
       "      <th>revenue (in millions)</th>\n",
       "      <th>production_company</th>\n",
       "      <th>runtime</th>\n",
       "      <th>revenue_group</th>\n",
       "    </tr>\n",
       "  </thead>\n",
       "  <tbody>\n",
       "    <tr>\n",
       "      <th>0</th>\n",
       "      <td>The Shining</td>\n",
       "      <td>R</td>\n",
       "      <td>Drama</td>\n",
       "      <td>1980</td>\n",
       "      <td>June 13, 1980 (United States)</td>\n",
       "      <td>8.4</td>\n",
       "      <td>927.0</td>\n",
       "      <td>Stanley Kubrick</td>\n",
       "      <td>Stephen King</td>\n",
       "      <td>Jack Nicholson</td>\n",
       "      <td>United Kingdom</td>\n",
       "      <td>19.0</td>\n",
       "      <td>47.0</td>\n",
       "      <td>Warner Bros.</td>\n",
       "      <td>146</td>\n",
       "      <td>High Revenue</td>\n",
       "    </tr>\n",
       "    <tr>\n",
       "      <th>1</th>\n",
       "      <td>The Blue Lagoon</td>\n",
       "      <td>R</td>\n",
       "      <td>Adventure</td>\n",
       "      <td>1980</td>\n",
       "      <td>July 2, 1980 (United States)</td>\n",
       "      <td>5.8</td>\n",
       "      <td>65.0</td>\n",
       "      <td>Randal Kleiser</td>\n",
       "      <td>Henry De Vere Stacpoole</td>\n",
       "      <td>Brooke Shields</td>\n",
       "      <td>United States</td>\n",
       "      <td>4.5</td>\n",
       "      <td>58.9</td>\n",
       "      <td>Columbia Pictures</td>\n",
       "      <td>104</td>\n",
       "      <td>High Revenue</td>\n",
       "    </tr>\n",
       "    <tr>\n",
       "      <th>2</th>\n",
       "      <td>Star Wars: Episode V - The Empire Strikes Back</td>\n",
       "      <td>PG</td>\n",
       "      <td>Action</td>\n",
       "      <td>1980</td>\n",
       "      <td>June 20, 1980 (United States)</td>\n",
       "      <td>8.7</td>\n",
       "      <td>1200.0</td>\n",
       "      <td>Irvin Kershner</td>\n",
       "      <td>Leigh Brackett</td>\n",
       "      <td>Mark Hamill</td>\n",
       "      <td>United States</td>\n",
       "      <td>18.0</td>\n",
       "      <td>538.4</td>\n",
       "      <td>Lucasfilm</td>\n",
       "      <td>124</td>\n",
       "      <td>Very High Revenue</td>\n",
       "    </tr>\n",
       "    <tr>\n",
       "      <th>3</th>\n",
       "      <td>Airplane!</td>\n",
       "      <td>PG</td>\n",
       "      <td>Comedy</td>\n",
       "      <td>1980</td>\n",
       "      <td>July 2, 1980 (United States)</td>\n",
       "      <td>7.7</td>\n",
       "      <td>221.0</td>\n",
       "      <td>Jim Abrahams</td>\n",
       "      <td>Jim Abrahams</td>\n",
       "      <td>Robert Hays</td>\n",
       "      <td>United States</td>\n",
       "      <td>3.5</td>\n",
       "      <td>83.5</td>\n",
       "      <td>Paramount Pictures</td>\n",
       "      <td>88</td>\n",
       "      <td>High Revenue</td>\n",
       "    </tr>\n",
       "    <tr>\n",
       "      <th>4</th>\n",
       "      <td>Caddyshack</td>\n",
       "      <td>R</td>\n",
       "      <td>Comedy</td>\n",
       "      <td>1980</td>\n",
       "      <td>July 25, 1980 (United States)</td>\n",
       "      <td>7.3</td>\n",
       "      <td>108.0</td>\n",
       "      <td>Harold Ramis</td>\n",
       "      <td>Brian Doyle-Murray</td>\n",
       "      <td>Chevy Chase</td>\n",
       "      <td>United States</td>\n",
       "      <td>6.0</td>\n",
       "      <td>39.8</td>\n",
       "      <td>Orion Pictures</td>\n",
       "      <td>98</td>\n",
       "      <td>High Revenue</td>\n",
       "    </tr>\n",
       "  </tbody>\n",
       "</table>\n",
       "</div>"
      ],
      "text/plain": [
       "                                       movie_name content_rating      genre  \\\n",
       "0                                     The Shining              R      Drama   \n",
       "1                                 The Blue Lagoon              R  Adventure   \n",
       "2  Star Wars: Episode V - The Empire Strikes Back             PG     Action   \n",
       "3                                       Airplane!             PG     Comedy   \n",
       "4                                      Caddyshack              R     Comedy   \n",
       "\n",
       "   year                   release_date  IMDB_rating vote_count (in thousands)  \\\n",
       "0  1980  June 13, 1980 (United States)          8.4                     927.0   \n",
       "1  1980   July 2, 1980 (United States)          5.8                      65.0   \n",
       "2  1980  June 20, 1980 (United States)          8.7                    1200.0   \n",
       "3  1980   July 2, 1980 (United States)          7.7                     221.0   \n",
       "4  1980  July 25, 1980 (United States)          7.3                     108.0   \n",
       "\n",
       "          director                   writer            star         country  \\\n",
       "0  Stanley Kubrick             Stephen King  Jack Nicholson  United Kingdom   \n",
       "1   Randal Kleiser  Henry De Vere Stacpoole  Brooke Shields   United States   \n",
       "2   Irvin Kershner           Leigh Brackett     Mark Hamill   United States   \n",
       "3     Jim Abrahams             Jim Abrahams     Robert Hays   United States   \n",
       "4     Harold Ramis       Brian Doyle-Murray     Chevy Chase   United States   \n",
       "\n",
       "   budget (in millions)  revenue (in millions)  production_company  runtime  \\\n",
       "0                  19.0                   47.0        Warner Bros.      146   \n",
       "1                   4.5                   58.9   Columbia Pictures      104   \n",
       "2                  18.0                  538.4           Lucasfilm      124   \n",
       "3                   3.5                   83.5  Paramount Pictures       88   \n",
       "4                   6.0                   39.8      Orion Pictures       98   \n",
       "\n",
       "       revenue_group  \n",
       "0       High Revenue  \n",
       "1       High Revenue  \n",
       "2  Very High Revenue  \n",
       "3       High Revenue  \n",
       "4       High Revenue  "
      ]
     },
     "execution_count": 75,
     "metadata": {},
     "output_type": "execute_result"
    }
   ],
   "source": [
    "#pd.cut() is a function that creates bins or intervals.\n",
    "#bins mentions the edges of bins or intervals. Example: (0.0, 5.0) means revenue between 0.0 and 5.0.\n",
    "#labels specifies the labels to be alloted to the corresponding bins.\n",
    "movies[\"revenue_group\"] = pd.cut(movies[\"revenue (in millions)\"], bins = [0.0, 5.0, 35.0, 200.0, 2900.0], labels = [\"Low Revenue\", \"Moderate Revenue\", \"High Revenue\", \"Very High Revenue\"])\n",
    "movies.head()"
   ]
  },
  {
   "cell_type": "code",
   "execution_count": 76,
   "metadata": {},
   "outputs": [],
   "source": [
    "#Merging the columns \"movie\" and \"genre\" to make a new column named \"movie_and_genre\".\n",
    "movies[\"movie_and_genre\"] = movies[\"movie_name\"] + \" - \" + movies[\"genre\"]"
   ]
  },
  {
   "cell_type": "code",
   "execution_count": 77,
   "metadata": {},
   "outputs": [
    {
     "data": {
      "text/html": [
       "<div>\n",
       "<style scoped>\n",
       "    .dataframe tbody tr th:only-of-type {\n",
       "        vertical-align: middle;\n",
       "    }\n",
       "\n",
       "    .dataframe tbody tr th {\n",
       "        vertical-align: top;\n",
       "    }\n",
       "\n",
       "    .dataframe thead th {\n",
       "        text-align: right;\n",
       "    }\n",
       "</style>\n",
       "<table border=\"1\" class=\"dataframe\">\n",
       "  <thead>\n",
       "    <tr style=\"text-align: right;\">\n",
       "      <th></th>\n",
       "      <th>movie_name</th>\n",
       "      <th>content_rating</th>\n",
       "      <th>genre</th>\n",
       "      <th>year</th>\n",
       "      <th>release_date</th>\n",
       "      <th>IMDB_rating</th>\n",
       "      <th>vote_count (in thousands)</th>\n",
       "      <th>director</th>\n",
       "      <th>writer</th>\n",
       "      <th>star</th>\n",
       "      <th>country</th>\n",
       "      <th>budget (in millions)</th>\n",
       "      <th>revenue (in millions)</th>\n",
       "      <th>production_company</th>\n",
       "      <th>runtime</th>\n",
       "      <th>revenue_group</th>\n",
       "      <th>movie_and_genre</th>\n",
       "    </tr>\n",
       "  </thead>\n",
       "  <tbody>\n",
       "    <tr>\n",
       "      <th>0</th>\n",
       "      <td>The Shining</td>\n",
       "      <td>R</td>\n",
       "      <td>Drama</td>\n",
       "      <td>1980</td>\n",
       "      <td>June 13, 1980 (United States)</td>\n",
       "      <td>8.4</td>\n",
       "      <td>927.0</td>\n",
       "      <td>Stanley Kubrick</td>\n",
       "      <td>Stephen King</td>\n",
       "      <td>Jack Nicholson</td>\n",
       "      <td>United Kingdom</td>\n",
       "      <td>19.0</td>\n",
       "      <td>47.0</td>\n",
       "      <td>Warner Bros.</td>\n",
       "      <td>146</td>\n",
       "      <td>High Revenue</td>\n",
       "      <td>The Shining - Drama</td>\n",
       "    </tr>\n",
       "    <tr>\n",
       "      <th>1</th>\n",
       "      <td>The Blue Lagoon</td>\n",
       "      <td>R</td>\n",
       "      <td>Adventure</td>\n",
       "      <td>1980</td>\n",
       "      <td>July 2, 1980 (United States)</td>\n",
       "      <td>5.8</td>\n",
       "      <td>65.0</td>\n",
       "      <td>Randal Kleiser</td>\n",
       "      <td>Henry De Vere Stacpoole</td>\n",
       "      <td>Brooke Shields</td>\n",
       "      <td>United States</td>\n",
       "      <td>4.5</td>\n",
       "      <td>58.9</td>\n",
       "      <td>Columbia Pictures</td>\n",
       "      <td>104</td>\n",
       "      <td>High Revenue</td>\n",
       "      <td>The Blue Lagoon - Adventure</td>\n",
       "    </tr>\n",
       "    <tr>\n",
       "      <th>2</th>\n",
       "      <td>Star Wars: Episode V - The Empire Strikes Back</td>\n",
       "      <td>PG</td>\n",
       "      <td>Action</td>\n",
       "      <td>1980</td>\n",
       "      <td>June 20, 1980 (United States)</td>\n",
       "      <td>8.7</td>\n",
       "      <td>1200.0</td>\n",
       "      <td>Irvin Kershner</td>\n",
       "      <td>Leigh Brackett</td>\n",
       "      <td>Mark Hamill</td>\n",
       "      <td>United States</td>\n",
       "      <td>18.0</td>\n",
       "      <td>538.4</td>\n",
       "      <td>Lucasfilm</td>\n",
       "      <td>124</td>\n",
       "      <td>Very High Revenue</td>\n",
       "      <td>Star Wars: Episode V - The Empire Strikes Back...</td>\n",
       "    </tr>\n",
       "    <tr>\n",
       "      <th>3</th>\n",
       "      <td>Airplane!</td>\n",
       "      <td>PG</td>\n",
       "      <td>Comedy</td>\n",
       "      <td>1980</td>\n",
       "      <td>July 2, 1980 (United States)</td>\n",
       "      <td>7.7</td>\n",
       "      <td>221.0</td>\n",
       "      <td>Jim Abrahams</td>\n",
       "      <td>Jim Abrahams</td>\n",
       "      <td>Robert Hays</td>\n",
       "      <td>United States</td>\n",
       "      <td>3.5</td>\n",
       "      <td>83.5</td>\n",
       "      <td>Paramount Pictures</td>\n",
       "      <td>88</td>\n",
       "      <td>High Revenue</td>\n",
       "      <td>Airplane! - Comedy</td>\n",
       "    </tr>\n",
       "    <tr>\n",
       "      <th>4</th>\n",
       "      <td>Caddyshack</td>\n",
       "      <td>R</td>\n",
       "      <td>Comedy</td>\n",
       "      <td>1980</td>\n",
       "      <td>July 25, 1980 (United States)</td>\n",
       "      <td>7.3</td>\n",
       "      <td>108.0</td>\n",
       "      <td>Harold Ramis</td>\n",
       "      <td>Brian Doyle-Murray</td>\n",
       "      <td>Chevy Chase</td>\n",
       "      <td>United States</td>\n",
       "      <td>6.0</td>\n",
       "      <td>39.8</td>\n",
       "      <td>Orion Pictures</td>\n",
       "      <td>98</td>\n",
       "      <td>High Revenue</td>\n",
       "      <td>Caddyshack - Comedy</td>\n",
       "    </tr>\n",
       "  </tbody>\n",
       "</table>\n",
       "</div>"
      ],
      "text/plain": [
       "                                       movie_name content_rating      genre  \\\n",
       "0                                     The Shining              R      Drama   \n",
       "1                                 The Blue Lagoon              R  Adventure   \n",
       "2  Star Wars: Episode V - The Empire Strikes Back             PG     Action   \n",
       "3                                       Airplane!             PG     Comedy   \n",
       "4                                      Caddyshack              R     Comedy   \n",
       "\n",
       "   year                   release_date  IMDB_rating vote_count (in thousands)  \\\n",
       "0  1980  June 13, 1980 (United States)          8.4                     927.0   \n",
       "1  1980   July 2, 1980 (United States)          5.8                      65.0   \n",
       "2  1980  June 20, 1980 (United States)          8.7                    1200.0   \n",
       "3  1980   July 2, 1980 (United States)          7.7                     221.0   \n",
       "4  1980  July 25, 1980 (United States)          7.3                     108.0   \n",
       "\n",
       "          director                   writer            star         country  \\\n",
       "0  Stanley Kubrick             Stephen King  Jack Nicholson  United Kingdom   \n",
       "1   Randal Kleiser  Henry De Vere Stacpoole  Brooke Shields   United States   \n",
       "2   Irvin Kershner           Leigh Brackett     Mark Hamill   United States   \n",
       "3     Jim Abrahams             Jim Abrahams     Robert Hays   United States   \n",
       "4     Harold Ramis       Brian Doyle-Murray     Chevy Chase   United States   \n",
       "\n",
       "   budget (in millions)  revenue (in millions)  production_company  runtime  \\\n",
       "0                  19.0                   47.0        Warner Bros.      146   \n",
       "1                   4.5                   58.9   Columbia Pictures      104   \n",
       "2                  18.0                  538.4           Lucasfilm      124   \n",
       "3                   3.5                   83.5  Paramount Pictures       88   \n",
       "4                   6.0                   39.8      Orion Pictures       98   \n",
       "\n",
       "       revenue_group                                    movie_and_genre  \n",
       "0       High Revenue                                The Shining - Drama  \n",
       "1       High Revenue                        The Blue Lagoon - Adventure  \n",
       "2  Very High Revenue  Star Wars: Episode V - The Empire Strikes Back...  \n",
       "3       High Revenue                                 Airplane! - Comedy  \n",
       "4       High Revenue                                Caddyshack - Comedy  "
      ]
     },
     "execution_count": 77,
     "metadata": {},
     "output_type": "execute_result"
    }
   ],
   "source": [
    "#Checking if the above code has worked.\n",
    "movies.head()"
   ]
  },
  {
   "cell_type": "code",
   "execution_count": 78,
   "metadata": {},
   "outputs": [
    {
     "data": {
      "text/html": [
       "<div>\n",
       "<style scoped>\n",
       "    .dataframe tbody tr th:only-of-type {\n",
       "        vertical-align: middle;\n",
       "    }\n",
       "\n",
       "    .dataframe tbody tr th {\n",
       "        vertical-align: top;\n",
       "    }\n",
       "\n",
       "    .dataframe thead th {\n",
       "        text-align: right;\n",
       "    }\n",
       "</style>\n",
       "<table border=\"1\" class=\"dataframe\">\n",
       "  <thead>\n",
       "    <tr style=\"text-align: right;\">\n",
       "      <th></th>\n",
       "      <th>movie_name</th>\n",
       "      <th>content_rating</th>\n",
       "      <th>genre</th>\n",
       "      <th>year</th>\n",
       "      <th>release_date</th>\n",
       "      <th>IMDB_rating</th>\n",
       "      <th>vote_count (in thousands)</th>\n",
       "      <th>director</th>\n",
       "      <th>writer</th>\n",
       "      <th>star</th>\n",
       "      <th>country</th>\n",
       "      <th>budget (in millions)</th>\n",
       "      <th>revenue (in millions)</th>\n",
       "      <th>production_company</th>\n",
       "      <th>runtime</th>\n",
       "      <th>revenue_group</th>\n",
       "      <th>movie_and_genre</th>\n",
       "      <th>movie_age</th>\n",
       "    </tr>\n",
       "  </thead>\n",
       "  <tbody>\n",
       "    <tr>\n",
       "      <th>0</th>\n",
       "      <td>The Shining</td>\n",
       "      <td>R</td>\n",
       "      <td>Drama</td>\n",
       "      <td>1980</td>\n",
       "      <td>June 13, 1980 (United States)</td>\n",
       "      <td>8.4</td>\n",
       "      <td>927.0</td>\n",
       "      <td>Stanley Kubrick</td>\n",
       "      <td>Stephen King</td>\n",
       "      <td>Jack Nicholson</td>\n",
       "      <td>United Kingdom</td>\n",
       "      <td>19.0</td>\n",
       "      <td>47.0</td>\n",
       "      <td>Warner Bros.</td>\n",
       "      <td>146</td>\n",
       "      <td>High Revenue</td>\n",
       "      <td>The Shining - Drama</td>\n",
       "      <td>45</td>\n",
       "    </tr>\n",
       "    <tr>\n",
       "      <th>1</th>\n",
       "      <td>The Blue Lagoon</td>\n",
       "      <td>R</td>\n",
       "      <td>Adventure</td>\n",
       "      <td>1980</td>\n",
       "      <td>July 2, 1980 (United States)</td>\n",
       "      <td>5.8</td>\n",
       "      <td>65.0</td>\n",
       "      <td>Randal Kleiser</td>\n",
       "      <td>Henry De Vere Stacpoole</td>\n",
       "      <td>Brooke Shields</td>\n",
       "      <td>United States</td>\n",
       "      <td>4.5</td>\n",
       "      <td>58.9</td>\n",
       "      <td>Columbia Pictures</td>\n",
       "      <td>104</td>\n",
       "      <td>High Revenue</td>\n",
       "      <td>The Blue Lagoon - Adventure</td>\n",
       "      <td>45</td>\n",
       "    </tr>\n",
       "    <tr>\n",
       "      <th>2</th>\n",
       "      <td>Star Wars: Episode V - The Empire Strikes Back</td>\n",
       "      <td>PG</td>\n",
       "      <td>Action</td>\n",
       "      <td>1980</td>\n",
       "      <td>June 20, 1980 (United States)</td>\n",
       "      <td>8.7</td>\n",
       "      <td>1200.0</td>\n",
       "      <td>Irvin Kershner</td>\n",
       "      <td>Leigh Brackett</td>\n",
       "      <td>Mark Hamill</td>\n",
       "      <td>United States</td>\n",
       "      <td>18.0</td>\n",
       "      <td>538.4</td>\n",
       "      <td>Lucasfilm</td>\n",
       "      <td>124</td>\n",
       "      <td>Very High Revenue</td>\n",
       "      <td>Star Wars: Episode V - The Empire Strikes Back...</td>\n",
       "      <td>45</td>\n",
       "    </tr>\n",
       "    <tr>\n",
       "      <th>3</th>\n",
       "      <td>Airplane!</td>\n",
       "      <td>PG</td>\n",
       "      <td>Comedy</td>\n",
       "      <td>1980</td>\n",
       "      <td>July 2, 1980 (United States)</td>\n",
       "      <td>7.7</td>\n",
       "      <td>221.0</td>\n",
       "      <td>Jim Abrahams</td>\n",
       "      <td>Jim Abrahams</td>\n",
       "      <td>Robert Hays</td>\n",
       "      <td>United States</td>\n",
       "      <td>3.5</td>\n",
       "      <td>83.5</td>\n",
       "      <td>Paramount Pictures</td>\n",
       "      <td>88</td>\n",
       "      <td>High Revenue</td>\n",
       "      <td>Airplane! - Comedy</td>\n",
       "      <td>45</td>\n",
       "    </tr>\n",
       "    <tr>\n",
       "      <th>4</th>\n",
       "      <td>Caddyshack</td>\n",
       "      <td>R</td>\n",
       "      <td>Comedy</td>\n",
       "      <td>1980</td>\n",
       "      <td>July 25, 1980 (United States)</td>\n",
       "      <td>7.3</td>\n",
       "      <td>108.0</td>\n",
       "      <td>Harold Ramis</td>\n",
       "      <td>Brian Doyle-Murray</td>\n",
       "      <td>Chevy Chase</td>\n",
       "      <td>United States</td>\n",
       "      <td>6.0</td>\n",
       "      <td>39.8</td>\n",
       "      <td>Orion Pictures</td>\n",
       "      <td>98</td>\n",
       "      <td>High Revenue</td>\n",
       "      <td>Caddyshack - Comedy</td>\n",
       "      <td>45</td>\n",
       "    </tr>\n",
       "  </tbody>\n",
       "</table>\n",
       "</div>"
      ],
      "text/plain": [
       "                                       movie_name content_rating      genre  \\\n",
       "0                                     The Shining              R      Drama   \n",
       "1                                 The Blue Lagoon              R  Adventure   \n",
       "2  Star Wars: Episode V - The Empire Strikes Back             PG     Action   \n",
       "3                                       Airplane!             PG     Comedy   \n",
       "4                                      Caddyshack              R     Comedy   \n",
       "\n",
       "   year                   release_date  IMDB_rating vote_count (in thousands)  \\\n",
       "0  1980  June 13, 1980 (United States)          8.4                     927.0   \n",
       "1  1980   July 2, 1980 (United States)          5.8                      65.0   \n",
       "2  1980  June 20, 1980 (United States)          8.7                    1200.0   \n",
       "3  1980   July 2, 1980 (United States)          7.7                     221.0   \n",
       "4  1980  July 25, 1980 (United States)          7.3                     108.0   \n",
       "\n",
       "          director                   writer            star         country  \\\n",
       "0  Stanley Kubrick             Stephen King  Jack Nicholson  United Kingdom   \n",
       "1   Randal Kleiser  Henry De Vere Stacpoole  Brooke Shields   United States   \n",
       "2   Irvin Kershner           Leigh Brackett     Mark Hamill   United States   \n",
       "3     Jim Abrahams             Jim Abrahams     Robert Hays   United States   \n",
       "4     Harold Ramis       Brian Doyle-Murray     Chevy Chase   United States   \n",
       "\n",
       "   budget (in millions)  revenue (in millions)  production_company  runtime  \\\n",
       "0                  19.0                   47.0        Warner Bros.      146   \n",
       "1                   4.5                   58.9   Columbia Pictures      104   \n",
       "2                  18.0                  538.4           Lucasfilm      124   \n",
       "3                   3.5                   83.5  Paramount Pictures       88   \n",
       "4                   6.0                   39.8      Orion Pictures       98   \n",
       "\n",
       "       revenue_group                                    movie_and_genre  \\\n",
       "0       High Revenue                                The Shining - Drama   \n",
       "1       High Revenue                        The Blue Lagoon - Adventure   \n",
       "2  Very High Revenue  Star Wars: Episode V - The Empire Strikes Back...   \n",
       "3       High Revenue                                 Airplane! - Comedy   \n",
       "4       High Revenue                                Caddyshack - Comedy   \n",
       "\n",
       "   movie_age  \n",
       "0         45  \n",
       "1         45  \n",
       "2         45  \n",
       "3         45  \n",
       "4         45  "
      ]
     },
     "execution_count": 78,
     "metadata": {},
     "output_type": "execute_result"
    }
   ],
   "source": [
    "#By using pandas' to_datetime(\"today\").year function, the current year is obtained.\n",
    "#This current year is subtracted by the values in the \"year\" column to get get the movies' age.\n",
    "current_year = pd.to_datetime(\"today\").year\n",
    "movies[\"movie_age\"] = current_year - movies[\"year\"]\n",
    "movies.head()"
   ]
  },
  {
   "cell_type": "markdown",
   "metadata": {},
   "source": [
    "## Data analysis and Data visualisation"
   ]
  },
  {
   "cell_type": "code",
   "execution_count": 80,
   "metadata": {},
   "outputs": [
    {
     "data": {
      "text/html": [
       "<div>\n",
       "<style scoped>\n",
       "    .dataframe tbody tr th:only-of-type {\n",
       "        vertical-align: middle;\n",
       "    }\n",
       "\n",
       "    .dataframe tbody tr th {\n",
       "        vertical-align: top;\n",
       "    }\n",
       "\n",
       "    .dataframe thead th {\n",
       "        text-align: right;\n",
       "    }\n",
       "</style>\n",
       "<table border=\"1\" class=\"dataframe\">\n",
       "  <thead>\n",
       "    <tr style=\"text-align: right;\">\n",
       "      <th></th>\n",
       "      <th>movie_name</th>\n",
       "      <th>content_rating</th>\n",
       "      <th>genre</th>\n",
       "      <th>year</th>\n",
       "      <th>release_date</th>\n",
       "      <th>IMDB_rating</th>\n",
       "      <th>vote_count (in thousands)</th>\n",
       "      <th>director</th>\n",
       "      <th>writer</th>\n",
       "      <th>star</th>\n",
       "      <th>country</th>\n",
       "      <th>budget (in millions)</th>\n",
       "      <th>revenue (in millions)</th>\n",
       "      <th>production_company</th>\n",
       "      <th>runtime</th>\n",
       "      <th>revenue_group</th>\n",
       "      <th>movie_and_genre</th>\n",
       "      <th>movie_age</th>\n",
       "      <th>profit (in millions)</th>\n",
       "    </tr>\n",
       "  </thead>\n",
       "  <tbody>\n",
       "    <tr>\n",
       "      <th>0</th>\n",
       "      <td>The Shining</td>\n",
       "      <td>R</td>\n",
       "      <td>Drama</td>\n",
       "      <td>1980</td>\n",
       "      <td>June 13, 1980 (United States)</td>\n",
       "      <td>8.4</td>\n",
       "      <td>927.0</td>\n",
       "      <td>Stanley Kubrick</td>\n",
       "      <td>Stephen King</td>\n",
       "      <td>Jack Nicholson</td>\n",
       "      <td>United Kingdom</td>\n",
       "      <td>19.0</td>\n",
       "      <td>47.0</td>\n",
       "      <td>Warner Bros.</td>\n",
       "      <td>146</td>\n",
       "      <td>High Revenue</td>\n",
       "      <td>The Shining - Drama</td>\n",
       "      <td>45</td>\n",
       "      <td>28.0</td>\n",
       "    </tr>\n",
       "    <tr>\n",
       "      <th>1</th>\n",
       "      <td>The Blue Lagoon</td>\n",
       "      <td>R</td>\n",
       "      <td>Adventure</td>\n",
       "      <td>1980</td>\n",
       "      <td>July 2, 1980 (United States)</td>\n",
       "      <td>5.8</td>\n",
       "      <td>65.0</td>\n",
       "      <td>Randal Kleiser</td>\n",
       "      <td>Henry De Vere Stacpoole</td>\n",
       "      <td>Brooke Shields</td>\n",
       "      <td>United States</td>\n",
       "      <td>4.5</td>\n",
       "      <td>58.9</td>\n",
       "      <td>Columbia Pictures</td>\n",
       "      <td>104</td>\n",
       "      <td>High Revenue</td>\n",
       "      <td>The Blue Lagoon - Adventure</td>\n",
       "      <td>45</td>\n",
       "      <td>54.4</td>\n",
       "    </tr>\n",
       "    <tr>\n",
       "      <th>2</th>\n",
       "      <td>Star Wars: Episode V - The Empire Strikes Back</td>\n",
       "      <td>PG</td>\n",
       "      <td>Action</td>\n",
       "      <td>1980</td>\n",
       "      <td>June 20, 1980 (United States)</td>\n",
       "      <td>8.7</td>\n",
       "      <td>1200.0</td>\n",
       "      <td>Irvin Kershner</td>\n",
       "      <td>Leigh Brackett</td>\n",
       "      <td>Mark Hamill</td>\n",
       "      <td>United States</td>\n",
       "      <td>18.0</td>\n",
       "      <td>538.4</td>\n",
       "      <td>Lucasfilm</td>\n",
       "      <td>124</td>\n",
       "      <td>Very High Revenue</td>\n",
       "      <td>Star Wars: Episode V - The Empire Strikes Back...</td>\n",
       "      <td>45</td>\n",
       "      <td>520.4</td>\n",
       "    </tr>\n",
       "    <tr>\n",
       "      <th>3</th>\n",
       "      <td>Airplane!</td>\n",
       "      <td>PG</td>\n",
       "      <td>Comedy</td>\n",
       "      <td>1980</td>\n",
       "      <td>July 2, 1980 (United States)</td>\n",
       "      <td>7.7</td>\n",
       "      <td>221.0</td>\n",
       "      <td>Jim Abrahams</td>\n",
       "      <td>Jim Abrahams</td>\n",
       "      <td>Robert Hays</td>\n",
       "      <td>United States</td>\n",
       "      <td>3.5</td>\n",
       "      <td>83.5</td>\n",
       "      <td>Paramount Pictures</td>\n",
       "      <td>88</td>\n",
       "      <td>High Revenue</td>\n",
       "      <td>Airplane! - Comedy</td>\n",
       "      <td>45</td>\n",
       "      <td>80.0</td>\n",
       "    </tr>\n",
       "    <tr>\n",
       "      <th>4</th>\n",
       "      <td>Caddyshack</td>\n",
       "      <td>R</td>\n",
       "      <td>Comedy</td>\n",
       "      <td>1980</td>\n",
       "      <td>July 25, 1980 (United States)</td>\n",
       "      <td>7.3</td>\n",
       "      <td>108.0</td>\n",
       "      <td>Harold Ramis</td>\n",
       "      <td>Brian Doyle-Murray</td>\n",
       "      <td>Chevy Chase</td>\n",
       "      <td>United States</td>\n",
       "      <td>6.0</td>\n",
       "      <td>39.8</td>\n",
       "      <td>Orion Pictures</td>\n",
       "      <td>98</td>\n",
       "      <td>High Revenue</td>\n",
       "      <td>Caddyshack - Comedy</td>\n",
       "      <td>45</td>\n",
       "      <td>33.8</td>\n",
       "    </tr>\n",
       "  </tbody>\n",
       "</table>\n",
       "</div>"
      ],
      "text/plain": [
       "                                       movie_name content_rating      genre  \\\n",
       "0                                     The Shining              R      Drama   \n",
       "1                                 The Blue Lagoon              R  Adventure   \n",
       "2  Star Wars: Episode V - The Empire Strikes Back             PG     Action   \n",
       "3                                       Airplane!             PG     Comedy   \n",
       "4                                      Caddyshack              R     Comedy   \n",
       "\n",
       "   year                   release_date  IMDB_rating vote_count (in thousands)  \\\n",
       "0  1980  June 13, 1980 (United States)          8.4                     927.0   \n",
       "1  1980   July 2, 1980 (United States)          5.8                      65.0   \n",
       "2  1980  June 20, 1980 (United States)          8.7                    1200.0   \n",
       "3  1980   July 2, 1980 (United States)          7.7                     221.0   \n",
       "4  1980  July 25, 1980 (United States)          7.3                     108.0   \n",
       "\n",
       "          director                   writer            star         country  \\\n",
       "0  Stanley Kubrick             Stephen King  Jack Nicholson  United Kingdom   \n",
       "1   Randal Kleiser  Henry De Vere Stacpoole  Brooke Shields   United States   \n",
       "2   Irvin Kershner           Leigh Brackett     Mark Hamill   United States   \n",
       "3     Jim Abrahams             Jim Abrahams     Robert Hays   United States   \n",
       "4     Harold Ramis       Brian Doyle-Murray     Chevy Chase   United States   \n",
       "\n",
       "   budget (in millions)  revenue (in millions)  production_company  runtime  \\\n",
       "0                  19.0                   47.0        Warner Bros.      146   \n",
       "1                   4.5                   58.9   Columbia Pictures      104   \n",
       "2                  18.0                  538.4           Lucasfilm      124   \n",
       "3                   3.5                   83.5  Paramount Pictures       88   \n",
       "4                   6.0                   39.8      Orion Pictures       98   \n",
       "\n",
       "       revenue_group                                    movie_and_genre  \\\n",
       "0       High Revenue                                The Shining - Drama   \n",
       "1       High Revenue                        The Blue Lagoon - Adventure   \n",
       "2  Very High Revenue  Star Wars: Episode V - The Empire Strikes Back...   \n",
       "3       High Revenue                                 Airplane! - Comedy   \n",
       "4       High Revenue                                Caddyshack - Comedy   \n",
       "\n",
       "   movie_age  profit (in millions)  \n",
       "0         45                  28.0  \n",
       "1         45                  54.4  \n",
       "2         45                 520.4  \n",
       "3         45                  80.0  \n",
       "4         45                  33.8  "
      ]
     },
     "execution_count": 80,
     "metadata": {},
     "output_type": "execute_result"
    }
   ],
   "source": [
    "#Calculating and creating a new \"profit (in millions)\" column by subtracting the revenue and the budget of the movies.\n",
    "movies[\"profit (in millions)\"] = movies[\"revenue (in millions)\"] - movies[\"budget (in millions)\"]\n",
    "movies.head()"
   ]
  },
  {
   "cell_type": "code",
   "execution_count": 81,
   "metadata": {},
   "outputs": [
    {
     "data": {
      "text/html": [
       "<div>\n",
       "<style scoped>\n",
       "    .dataframe tbody tr th:only-of-type {\n",
       "        vertical-align: middle;\n",
       "    }\n",
       "\n",
       "    .dataframe tbody tr th {\n",
       "        vertical-align: top;\n",
       "    }\n",
       "\n",
       "    .dataframe thead th {\n",
       "        text-align: right;\n",
       "    }\n",
       "</style>\n",
       "<table border=\"1\" class=\"dataframe\">\n",
       "  <thead>\n",
       "    <tr style=\"text-align: right;\">\n",
       "      <th></th>\n",
       "      <th>year</th>\n",
       "      <th>profit (in millions)</th>\n",
       "    </tr>\n",
       "  </thead>\n",
       "  <tbody>\n",
       "    <tr>\n",
       "      <th>0</th>\n",
       "      <td>1980</td>\n",
       "      <td>1791.8</td>\n",
       "    </tr>\n",
       "    <tr>\n",
       "      <th>1</th>\n",
       "      <td>1981</td>\n",
       "      <td>1522.3</td>\n",
       "    </tr>\n",
       "    <tr>\n",
       "      <th>2</th>\n",
       "      <td>1982</td>\n",
       "      <td>1822.4</td>\n",
       "    </tr>\n",
       "    <tr>\n",
       "      <th>3</th>\n",
       "      <td>1983</td>\n",
       "      <td>1595.0</td>\n",
       "    </tr>\n",
       "    <tr>\n",
       "      <th>4</th>\n",
       "      <td>1984</td>\n",
       "      <td>1733.7</td>\n",
       "    </tr>\n",
       "  </tbody>\n",
       "</table>\n",
       "</div>"
      ],
      "text/plain": [
       "   year  profit (in millions)\n",
       "0  1980                1791.8\n",
       "1  1981                1522.3\n",
       "2  1982                1822.4\n",
       "3  1983                1595.0\n",
       "4  1984                1733.7"
      ]
     },
     "execution_count": 81,
     "metadata": {},
     "output_type": "execute_result"
    }
   ],
   "source": [
    "#Creating a dataframe which shows the total profit per year.\n",
    "#Here, .agg() calculates the total profit (because \"sum\" is mentioned) which is grouped by the \"year\" by using .groupby().\n",
    "profit = movies.groupby(\"year\").agg({\"profit (in millions)\": \"sum\"}).reset_index()\n",
    "profit.head()"
   ]
  },
  {
   "cell_type": "code",
   "execution_count": 82,
   "metadata": {},
   "outputs": [
    {
     "data": {
      "image/png": "[encoded data removed]",
      "text/plain": [
       "<Figure size 1000x500 with 1 Axes>"
      ]
     },
     "metadata": {},
     "output_type": "display_data"
    }
   ],
   "source": [
    "#Importing necessary libraries.\n",
    "import matplotlib.pyplot as plt\n",
    "import seaborn as sns\n",
    "plt.figure(figsize = (10, 5))  #Sets the size of the figure. \n",
    "sns.lineplot(data = profit, x = \"year\", y = \"profit (in millions)\", marker = \"o\", label = \"Total Profit\")  #sns.lineplot() creates a line plot with x and y values along with the marker and label of the graph, using seaborn library.\n",
    "plt.title(\"Profit Over the Years\")  #Sets the title of the graph.\n",
    "plt.xlabel(\"Year\")  #Labels the X axis.\n",
    "plt.ylabel(\"Profit (in millions)\")  #Labels the Y axis.\n",
    "plt.grid(visible = True, alpha = 0.5)  #Sets the grid of the graph (alpha adjusts the transparency).\n",
    "plt.legend()  #Provides a legend.\n",
    "plt.tight_layout()  #Automatically adjusts the overall layout of the graph.\n",
    "plt.savefig(\"profit_over_the_years.png\", format = \"png\", dpi = 300)  #Exports the visualisation as an image file.\n",
    "plt.show()"
   ]
  },
  {
   "cell_type": "markdown",
   "metadata": {},
   "source": [
    "This lineplot portrays the profit of movies over the years. X axis shows the years whereas Y axis shows the profit (in millions).\n",
    "As it can be seen, the profit is on an upward trend. Only the year 2020 shows a massive drop in the profits but that is due to COVID.\n",
    "This plot shows that the movies industry id doing good overall (due to the upward profit trend).\n",
    "So, the movie industry can be considered as a good option for investors to invest in."
   ]
  },
  {
   "cell_type": "code",
   "execution_count": 84,
   "metadata": {},
   "outputs": [
    {
     "data": {
      "text/plain": [
       "0         147.0\n",
       "1        1209.0\n",
       "2        2891.0\n",
       "3        2286.0\n",
       "4         563.0\n",
       "         ...   \n",
       "7663        inf\n",
       "7664      -99.0\n",
       "7665    84400.0\n",
       "7666        inf\n",
       "7667     -100.0\n",
       "Name: return_on_investment, Length: 7668, dtype: float64"
      ]
     },
     "execution_count": 84,
     "metadata": {},
     "output_type": "execute_result"
    }
   ],
   "source": [
    "#Calculating the Return on Investment (ROI) by dividing the profit by budget and multiplying the result by 100.\n",
    "movies[\"return_on_investment\"] = (movies[\"profit (in millions)\"] / movies[\"budget (in millions)\"]) * 100\n",
    "movies[\"return_on_investment\"] = movies[\"return_on_investment\"].round()\n",
    "movies[\"return_on_investment\"]"
   ]
  },
  {
   "cell_type": "markdown",
   "metadata": {},
   "source": [
    "ROI is easier to compare the returns when budget is very vast, helping investors in decision making."
   ]
  },
  {
   "cell_type": "code",
   "execution_count": 86,
   "metadata": {},
   "outputs": [],
   "source": [
    "#np.inf is positive infinity while -np.inf is negative infinity which are both converted to 0 by using .replace().\n",
    "movies[\"return_on_investment\"] = movies[\"return_on_investment\"].replace([np.inf, -np.inf], 0)"
   ]
  },
  {
   "cell_type": "markdown",
   "metadata": {},
   "source": [
    "\"inf\" can be seen under this ROI column as few values under \"budget\" column are 0. So \"inf\" was converted to 0 in order to get accurate mean value of ROI."
   ]
  },
  {
   "cell_type": "code",
   "execution_count": 88,
   "metadata": {},
   "outputs": [
    {
     "data": {
      "text/plain": [
       "genre\n",
       "History      2733.000000\n",
       "Horror       1577.546584\n",
       "Family        707.818182\n",
       "Sci-Fi        684.500000\n",
       "Animation     252.896450\n",
       "Thriller      214.812500\n",
       "Drama         206.665349\n",
       "Comedy        169.829399\n",
       "Adventure     160.964871\n",
       "Fantasy       159.090909\n",
       "Name: return_on_investment, dtype: float64"
      ]
     },
     "execution_count": 88,
     "metadata": {},
     "output_type": "execute_result"
    }
   ],
   "source": [
    "#Generating the average ROI by each genre and sorting it from the highest to lowest by using .sort_values().\n",
    "#Using .nlargest(10) to get the top 10 genres with most ROI.   \n",
    "roi_by_genre = movies.groupby(\"genre\")[\"return_on_investment\"].mean().sort_values(ascending = False)\n",
    "top_genres = roi_by_genre.nlargest(10)\n",
    "top_genres"
   ]
  },
  {
   "cell_type": "code",
   "execution_count": 89,
   "metadata": {},
   "outputs": [
    {
     "data": {
      "image/png": "[encoded data removed]",
      "text/plain": [
       "<Figure size 1000x600 with 1 Axes>"
      ]
     },
     "metadata": {},
     "output_type": "display_data"
    }
   ],
   "source": [
    "plt.figure(figsize = (10, 6))  #Sets the size of the figure.\n",
    "bar = sns.barplot(x = top_genres.index,\n",
    "                  y = top_genres.values,\n",
    "                  hue = top_genres.index,\n",
    "                  palette = \"viridis\") #sns.barplot() creates a bar plot with x and y values along with the colour of the graph, using seaborn library.\n",
    "plt.xticks(rotation = 45) #Rotates the values of X axis by 45 degrees.\n",
    "plt.title(\"Top Genres with Most ROI\")  #Sets the title of the graph.\n",
    "plt.xlabel(\"Movie Genre\")  #Sets the label for X axis.\n",
    "plt.ylabel(\"Return on Investment (ROI)\")  #Sets the label for Y axis.\n",
    "plt.tight_layout()  #Automatically adjusts the elements in the graph to make the layout more appealing.\n",
    "for index, value in enumerate(top_genres.values):  \n",
    "    plt.text(x = index,  #Positioning the annotated text at the center of each bar.\n",
    "             y = value + 0.1,  #Plotting annotations slightly above the bars.\n",
    "             s = f\"{value:.1f}\",  #Including only one decimal point for the annotations.\n",
    "             ha = \"center\",  \n",
    "             va = \"bottom\",  #Horizontal Alignment and Vertical Alignment (ha, va) aligns the text accordingly.\n",
    "             fontsize = 10,\n",
    "             color = \"black\") \n",
    "plt.savefig(\"Top Genres with Most ROI.png\", format = \"png\", dpi = 300)  #Exports visualisation as an image file.\n",
    "plt.show()"
   ]
  },
  {
   "cell_type": "markdown",
   "metadata": {},
   "source": [
    "This bar plot shows the genres with highest ROI with X axis showing the Movie Genre and Y axis Showing the ROI.\n",
    "As it is seen, the genre \"History\" has the most ROI with a big margin as compared to the other top genres.\n",
    "This provides insights to investors as to which genre is successful in order for them to invest."
   ]
  },
  {
   "cell_type": "markdown",
   "metadata": {},
   "source": [
    "Its is now required to see the reason why \"History\" has the most ROI and see other factors related to the success of these genres."
   ]
  },
  {
   "cell_type": "code",
   "execution_count": 92,
   "metadata": {},
   "outputs": [
    {
     "data": {
      "text/html": [
       "<div>\n",
       "<style scoped>\n",
       "    .dataframe tbody tr th:only-of-type {\n",
       "        vertical-align: middle;\n",
       "    }\n",
       "\n",
       "    .dataframe tbody tr th {\n",
       "        vertical-align: top;\n",
       "    }\n",
       "\n",
       "    .dataframe thead th {\n",
       "        text-align: right;\n",
       "    }\n",
       "</style>\n",
       "<table border=\"1\" class=\"dataframe\">\n",
       "  <thead>\n",
       "    <tr style=\"text-align: right;\">\n",
       "      <th></th>\n",
       "      <th>movie_name</th>\n",
       "      <th>content_rating</th>\n",
       "      <th>genre</th>\n",
       "      <th>year</th>\n",
       "      <th>release_date</th>\n",
       "      <th>IMDB_rating</th>\n",
       "      <th>vote_count (in thousands)</th>\n",
       "      <th>director</th>\n",
       "      <th>writer</th>\n",
       "      <th>star</th>\n",
       "      <th>country</th>\n",
       "      <th>budget (in millions)</th>\n",
       "      <th>revenue (in millions)</th>\n",
       "      <th>production_company</th>\n",
       "      <th>runtime</th>\n",
       "      <th>revenue_group</th>\n",
       "      <th>movie_and_genre</th>\n",
       "      <th>movie_age</th>\n",
       "      <th>profit (in millions)</th>\n",
       "      <th>return_on_investment</th>\n",
       "    </tr>\n",
       "  </thead>\n",
       "  <tbody>\n",
       "    <tr>\n",
       "      <th>0</th>\n",
       "      <td>The Shining</td>\n",
       "      <td>R</td>\n",
       "      <td>Drama</td>\n",
       "      <td>1980</td>\n",
       "      <td>June 13, 1980 (United States)</td>\n",
       "      <td>8.4</td>\n",
       "      <td>927.0</td>\n",
       "      <td>Stanley Kubrick</td>\n",
       "      <td>Stephen King</td>\n",
       "      <td>Jack Nicholson</td>\n",
       "      <td>United Kingdom</td>\n",
       "      <td>19.0</td>\n",
       "      <td>47.0</td>\n",
       "      <td>Warner Bros.</td>\n",
       "      <td>146</td>\n",
       "      <td>High Revenue</td>\n",
       "      <td>The Shining - Drama</td>\n",
       "      <td>45</td>\n",
       "      <td>28.0</td>\n",
       "      <td>147.0</td>\n",
       "    </tr>\n",
       "    <tr>\n",
       "      <th>1</th>\n",
       "      <td>The Blue Lagoon</td>\n",
       "      <td>R</td>\n",
       "      <td>Adventure</td>\n",
       "      <td>1980</td>\n",
       "      <td>July 2, 1980 (United States)</td>\n",
       "      <td>5.8</td>\n",
       "      <td>65.0</td>\n",
       "      <td>Randal Kleiser</td>\n",
       "      <td>Henry De Vere Stacpoole</td>\n",
       "      <td>Brooke Shields</td>\n",
       "      <td>United States</td>\n",
       "      <td>4.5</td>\n",
       "      <td>58.9</td>\n",
       "      <td>Columbia Pictures</td>\n",
       "      <td>104</td>\n",
       "      <td>High Revenue</td>\n",
       "      <td>The Blue Lagoon - Adventure</td>\n",
       "      <td>45</td>\n",
       "      <td>54.4</td>\n",
       "      <td>1209.0</td>\n",
       "    </tr>\n",
       "    <tr>\n",
       "      <th>3</th>\n",
       "      <td>Airplane!</td>\n",
       "      <td>PG</td>\n",
       "      <td>Comedy</td>\n",
       "      <td>1980</td>\n",
       "      <td>July 2, 1980 (United States)</td>\n",
       "      <td>7.7</td>\n",
       "      <td>221.0</td>\n",
       "      <td>Jim Abrahams</td>\n",
       "      <td>Jim Abrahams</td>\n",
       "      <td>Robert Hays</td>\n",
       "      <td>United States</td>\n",
       "      <td>3.5</td>\n",
       "      <td>83.5</td>\n",
       "      <td>Paramount Pictures</td>\n",
       "      <td>88</td>\n",
       "      <td>High Revenue</td>\n",
       "      <td>Airplane! - Comedy</td>\n",
       "      <td>45</td>\n",
       "      <td>80.0</td>\n",
       "      <td>2286.0</td>\n",
       "    </tr>\n",
       "    <tr>\n",
       "      <th>4</th>\n",
       "      <td>Caddyshack</td>\n",
       "      <td>R</td>\n",
       "      <td>Comedy</td>\n",
       "      <td>1980</td>\n",
       "      <td>July 25, 1980 (United States)</td>\n",
       "      <td>7.3</td>\n",
       "      <td>108.0</td>\n",
       "      <td>Harold Ramis</td>\n",
       "      <td>Brian Doyle-Murray</td>\n",
       "      <td>Chevy Chase</td>\n",
       "      <td>United States</td>\n",
       "      <td>6.0</td>\n",
       "      <td>39.8</td>\n",
       "      <td>Orion Pictures</td>\n",
       "      <td>98</td>\n",
       "      <td>High Revenue</td>\n",
       "      <td>Caddyshack - Comedy</td>\n",
       "      <td>45</td>\n",
       "      <td>33.8</td>\n",
       "      <td>563.0</td>\n",
       "    </tr>\n",
       "    <tr>\n",
       "      <th>5</th>\n",
       "      <td>Friday the 13th</td>\n",
       "      <td>R</td>\n",
       "      <td>Horror</td>\n",
       "      <td>1980</td>\n",
       "      <td>May 9, 1980 (United States)</td>\n",
       "      <td>6.4</td>\n",
       "      <td>123.0</td>\n",
       "      <td>Sean S. Cunningham</td>\n",
       "      <td>Victor Miller</td>\n",
       "      <td>Betsy Palmer</td>\n",
       "      <td>United States</td>\n",
       "      <td>0.6</td>\n",
       "      <td>39.8</td>\n",
       "      <td>Paramount Pictures</td>\n",
       "      <td>95</td>\n",
       "      <td>High Revenue</td>\n",
       "      <td>Friday the 13th - Horror</td>\n",
       "      <td>45</td>\n",
       "      <td>39.2</td>\n",
       "      <td>6533.0</td>\n",
       "    </tr>\n",
       "  </tbody>\n",
       "</table>\n",
       "</div>"
      ],
      "text/plain": [
       "        movie_name content_rating      genre  year  \\\n",
       "0      The Shining              R      Drama  1980   \n",
       "1  The Blue Lagoon              R  Adventure  1980   \n",
       "3        Airplane!             PG     Comedy  1980   \n",
       "4       Caddyshack              R     Comedy  1980   \n",
       "5  Friday the 13th              R     Horror  1980   \n",
       "\n",
       "                    release_date  IMDB_rating vote_count (in thousands)  \\\n",
       "0  June 13, 1980 (United States)          8.4                     927.0   \n",
       "1   July 2, 1980 (United States)          5.8                      65.0   \n",
       "3   July 2, 1980 (United States)          7.7                     221.0   \n",
       "4  July 25, 1980 (United States)          7.3                     108.0   \n",
       "5    May 9, 1980 (United States)          6.4                     123.0   \n",
       "\n",
       "             director                   writer            star  \\\n",
       "0     Stanley Kubrick             Stephen King  Jack Nicholson   \n",
       "1      Randal Kleiser  Henry De Vere Stacpoole  Brooke Shields   \n",
       "3        Jim Abrahams             Jim Abrahams     Robert Hays   \n",
       "4        Harold Ramis       Brian Doyle-Murray     Chevy Chase   \n",
       "5  Sean S. Cunningham            Victor Miller    Betsy Palmer   \n",
       "\n",
       "          country  budget (in millions)  revenue (in millions)  \\\n",
       "0  United Kingdom                  19.0                   47.0   \n",
       "1   United States                   4.5                   58.9   \n",
       "3   United States                   3.5                   83.5   \n",
       "4   United States                   6.0                   39.8   \n",
       "5   United States                   0.6                   39.8   \n",
       "\n",
       "   production_company  runtime revenue_group              movie_and_genre  \\\n",
       "0        Warner Bros.      146  High Revenue          The Shining - Drama   \n",
       "1   Columbia Pictures      104  High Revenue  The Blue Lagoon - Adventure   \n",
       "3  Paramount Pictures       88  High Revenue           Airplane! - Comedy   \n",
       "4      Orion Pictures       98  High Revenue          Caddyshack - Comedy   \n",
       "5  Paramount Pictures       95  High Revenue     Friday the 13th - Horror   \n",
       "\n",
       "   movie_age  profit (in millions)  return_on_investment  \n",
       "0         45                  28.0                 147.0  \n",
       "1         45                  54.4                1209.0  \n",
       "3         45                  80.0                2286.0  \n",
       "4         45                  33.8                 563.0  \n",
       "5         45                  39.2                6533.0  "
      ]
     },
     "execution_count": 92,
     "metadata": {},
     "output_type": "execute_result"
    }
   ],
   "source": [
    "#Creating a new dataframe named \"movies_2\" with only the top 10 genres (using .isin()) based on ROI.\n",
    "top_10_genres = roi_by_genre.head(10).index\n",
    "top_10_genres\n",
    "movies_2 = movies[movies[\"genre\"].isin(top_10_genres)]\n",
    "movies_2.head()"
   ]
  },
  {
   "cell_type": "code",
   "execution_count": 93,
   "metadata": {},
   "outputs": [
    {
     "data": {
      "text/html": [
       "<div>\n",
       "<style scoped>\n",
       "    .dataframe tbody tr th:only-of-type {\n",
       "        vertical-align: middle;\n",
       "    }\n",
       "\n",
       "    .dataframe tbody tr th {\n",
       "        vertical-align: top;\n",
       "    }\n",
       "\n",
       "    .dataframe thead th {\n",
       "        text-align: right;\n",
       "    }\n",
       "</style>\n",
       "<table border=\"1\" class=\"dataframe\">\n",
       "  <thead>\n",
       "    <tr style=\"text-align: right;\">\n",
       "      <th></th>\n",
       "      <th>genre</th>\n",
       "      <th>count</th>\n",
       "    </tr>\n",
       "  </thead>\n",
       "  <tbody>\n",
       "    <tr>\n",
       "      <th>0</th>\n",
       "      <td>Comedy</td>\n",
       "      <td>2245</td>\n",
       "    </tr>\n",
       "    <tr>\n",
       "      <th>1</th>\n",
       "      <td>Drama</td>\n",
       "      <td>1518</td>\n",
       "    </tr>\n",
       "    <tr>\n",
       "      <th>2</th>\n",
       "      <td>Adventure</td>\n",
       "      <td>427</td>\n",
       "    </tr>\n",
       "    <tr>\n",
       "      <th>3</th>\n",
       "      <td>Animation</td>\n",
       "      <td>338</td>\n",
       "    </tr>\n",
       "    <tr>\n",
       "      <th>4</th>\n",
       "      <td>Horror</td>\n",
       "      <td>322</td>\n",
       "    </tr>\n",
       "    <tr>\n",
       "      <th>5</th>\n",
       "      <td>Fantasy</td>\n",
       "      <td>44</td>\n",
       "    </tr>\n",
       "    <tr>\n",
       "      <th>6</th>\n",
       "      <td>Thriller</td>\n",
       "      <td>16</td>\n",
       "    </tr>\n",
       "    <tr>\n",
       "      <th>7</th>\n",
       "      <td>Family</td>\n",
       "      <td>11</td>\n",
       "    </tr>\n",
       "    <tr>\n",
       "      <th>8</th>\n",
       "      <td>Sci-Fi</td>\n",
       "      <td>10</td>\n",
       "    </tr>\n",
       "    <tr>\n",
       "      <th>9</th>\n",
       "      <td>History</td>\n",
       "      <td>1</td>\n",
       "    </tr>\n",
       "  </tbody>\n",
       "</table>\n",
       "</div>"
      ],
      "text/plain": [
       "       genre  count\n",
       "0     Comedy   2245\n",
       "1      Drama   1518\n",
       "2  Adventure    427\n",
       "3  Animation    338\n",
       "4     Horror    322\n",
       "5    Fantasy     44\n",
       "6   Thriller     16\n",
       "7     Family     11\n",
       "8     Sci-Fi     10\n",
       "9    History      1"
      ]
     },
     "execution_count": 93,
     "metadata": {},
     "output_type": "execute_result"
    }
   ],
   "source": [
    "#Checing how many movies are present for each of the top genres.\n",
    "#.value_counts() shows the number of times each genre is mentioned in the dataframe.\n",
    "movies_2[\"genre\"].value_counts().reset_index()"
   ]
  },
  {
   "cell_type": "markdown",
   "metadata": {},
   "source": [
    "As there is only 1 \"History\" movie, the ROI of this movie cannot be considered as the ROI for the entire genre.\n",
    "So, another dataframe is made based on the top 10 genres in relation to ROI but with more than 300 movies each.\n",
    "As seen above, the top 5 genres have more than 300 movies each."
   ]
  },
  {
   "cell_type": "code",
   "execution_count": 95,
   "metadata": {},
   "outputs": [
    {
     "data": {
      "text/html": [
       "<div>\n",
       "<style scoped>\n",
       "    .dataframe tbody tr th:only-of-type {\n",
       "        vertical-align: middle;\n",
       "    }\n",
       "\n",
       "    .dataframe tbody tr th {\n",
       "        vertical-align: top;\n",
       "    }\n",
       "\n",
       "    .dataframe thead th {\n",
       "        text-align: right;\n",
       "    }\n",
       "</style>\n",
       "<table border=\"1\" class=\"dataframe\">\n",
       "  <thead>\n",
       "    <tr style=\"text-align: right;\">\n",
       "      <th></th>\n",
       "      <th>movie_name</th>\n",
       "      <th>content_rating</th>\n",
       "      <th>genre</th>\n",
       "      <th>year</th>\n",
       "      <th>release_date</th>\n",
       "      <th>IMDB_rating</th>\n",
       "      <th>vote_count (in thousands)</th>\n",
       "      <th>director</th>\n",
       "      <th>writer</th>\n",
       "      <th>star</th>\n",
       "      <th>country</th>\n",
       "      <th>budget (in millions)</th>\n",
       "      <th>revenue (in millions)</th>\n",
       "      <th>production_company</th>\n",
       "      <th>runtime</th>\n",
       "      <th>revenue_group</th>\n",
       "      <th>movie_and_genre</th>\n",
       "      <th>movie_age</th>\n",
       "      <th>profit (in millions)</th>\n",
       "      <th>return_on_investment</th>\n",
       "    </tr>\n",
       "  </thead>\n",
       "  <tbody>\n",
       "    <tr>\n",
       "      <th>0</th>\n",
       "      <td>The Shining</td>\n",
       "      <td>R</td>\n",
       "      <td>Drama</td>\n",
       "      <td>1980</td>\n",
       "      <td>June 13, 1980 (United States)</td>\n",
       "      <td>8.4</td>\n",
       "      <td>927.0</td>\n",
       "      <td>Stanley Kubrick</td>\n",
       "      <td>Stephen King</td>\n",
       "      <td>Jack Nicholson</td>\n",
       "      <td>United Kingdom</td>\n",
       "      <td>19.0</td>\n",
       "      <td>47.0</td>\n",
       "      <td>Warner Bros.</td>\n",
       "      <td>146</td>\n",
       "      <td>High Revenue</td>\n",
       "      <td>The Shining - Drama</td>\n",
       "      <td>45</td>\n",
       "      <td>28.0</td>\n",
       "      <td>147.0</td>\n",
       "    </tr>\n",
       "    <tr>\n",
       "      <th>1</th>\n",
       "      <td>The Blue Lagoon</td>\n",
       "      <td>R</td>\n",
       "      <td>Adventure</td>\n",
       "      <td>1980</td>\n",
       "      <td>July 2, 1980 (United States)</td>\n",
       "      <td>5.8</td>\n",
       "      <td>65.0</td>\n",
       "      <td>Randal Kleiser</td>\n",
       "      <td>Henry De Vere Stacpoole</td>\n",
       "      <td>Brooke Shields</td>\n",
       "      <td>United States</td>\n",
       "      <td>4.5</td>\n",
       "      <td>58.9</td>\n",
       "      <td>Columbia Pictures</td>\n",
       "      <td>104</td>\n",
       "      <td>High Revenue</td>\n",
       "      <td>The Blue Lagoon - Adventure</td>\n",
       "      <td>45</td>\n",
       "      <td>54.4</td>\n",
       "      <td>1209.0</td>\n",
       "    </tr>\n",
       "    <tr>\n",
       "      <th>3</th>\n",
       "      <td>Airplane!</td>\n",
       "      <td>PG</td>\n",
       "      <td>Comedy</td>\n",
       "      <td>1980</td>\n",
       "      <td>July 2, 1980 (United States)</td>\n",
       "      <td>7.7</td>\n",
       "      <td>221.0</td>\n",
       "      <td>Jim Abrahams</td>\n",
       "      <td>Jim Abrahams</td>\n",
       "      <td>Robert Hays</td>\n",
       "      <td>United States</td>\n",
       "      <td>3.5</td>\n",
       "      <td>83.5</td>\n",
       "      <td>Paramount Pictures</td>\n",
       "      <td>88</td>\n",
       "      <td>High Revenue</td>\n",
       "      <td>Airplane! - Comedy</td>\n",
       "      <td>45</td>\n",
       "      <td>80.0</td>\n",
       "      <td>2286.0</td>\n",
       "    </tr>\n",
       "    <tr>\n",
       "      <th>4</th>\n",
       "      <td>Caddyshack</td>\n",
       "      <td>R</td>\n",
       "      <td>Comedy</td>\n",
       "      <td>1980</td>\n",
       "      <td>July 25, 1980 (United States)</td>\n",
       "      <td>7.3</td>\n",
       "      <td>108.0</td>\n",
       "      <td>Harold Ramis</td>\n",
       "      <td>Brian Doyle-Murray</td>\n",
       "      <td>Chevy Chase</td>\n",
       "      <td>United States</td>\n",
       "      <td>6.0</td>\n",
       "      <td>39.8</td>\n",
       "      <td>Orion Pictures</td>\n",
       "      <td>98</td>\n",
       "      <td>High Revenue</td>\n",
       "      <td>Caddyshack - Comedy</td>\n",
       "      <td>45</td>\n",
       "      <td>33.8</td>\n",
       "      <td>563.0</td>\n",
       "    </tr>\n",
       "    <tr>\n",
       "      <th>5</th>\n",
       "      <td>Friday the 13th</td>\n",
       "      <td>R</td>\n",
       "      <td>Horror</td>\n",
       "      <td>1980</td>\n",
       "      <td>May 9, 1980 (United States)</td>\n",
       "      <td>6.4</td>\n",
       "      <td>123.0</td>\n",
       "      <td>Sean S. Cunningham</td>\n",
       "      <td>Victor Miller</td>\n",
       "      <td>Betsy Palmer</td>\n",
       "      <td>United States</td>\n",
       "      <td>0.6</td>\n",
       "      <td>39.8</td>\n",
       "      <td>Paramount Pictures</td>\n",
       "      <td>95</td>\n",
       "      <td>High Revenue</td>\n",
       "      <td>Friday the 13th - Horror</td>\n",
       "      <td>45</td>\n",
       "      <td>39.2</td>\n",
       "      <td>6533.0</td>\n",
       "    </tr>\n",
       "  </tbody>\n",
       "</table>\n",
       "</div>"
      ],
      "text/plain": [
       "        movie_name content_rating      genre  year  \\\n",
       "0      The Shining              R      Drama  1980   \n",
       "1  The Blue Lagoon              R  Adventure  1980   \n",
       "3        Airplane!             PG     Comedy  1980   \n",
       "4       Caddyshack              R     Comedy  1980   \n",
       "5  Friday the 13th              R     Horror  1980   \n",
       "\n",
       "                    release_date  IMDB_rating vote_count (in thousands)  \\\n",
       "0  June 13, 1980 (United States)          8.4                     927.0   \n",
       "1   July 2, 1980 (United States)          5.8                      65.0   \n",
       "3   July 2, 1980 (United States)          7.7                     221.0   \n",
       "4  July 25, 1980 (United States)          7.3                     108.0   \n",
       "5    May 9, 1980 (United States)          6.4                     123.0   \n",
       "\n",
       "             director                   writer            star  \\\n",
       "0     Stanley Kubrick             Stephen King  Jack Nicholson   \n",
       "1      Randal Kleiser  Henry De Vere Stacpoole  Brooke Shields   \n",
       "3        Jim Abrahams             Jim Abrahams     Robert Hays   \n",
       "4        Harold Ramis       Brian Doyle-Murray     Chevy Chase   \n",
       "5  Sean S. Cunningham            Victor Miller    Betsy Palmer   \n",
       "\n",
       "          country  budget (in millions)  revenue (in millions)  \\\n",
       "0  United Kingdom                  19.0                   47.0   \n",
       "1   United States                   4.5                   58.9   \n",
       "3   United States                   3.5                   83.5   \n",
       "4   United States                   6.0                   39.8   \n",
       "5   United States                   0.6                   39.8   \n",
       "\n",
       "   production_company  runtime revenue_group              movie_and_genre  \\\n",
       "0        Warner Bros.      146  High Revenue          The Shining - Drama   \n",
       "1   Columbia Pictures      104  High Revenue  The Blue Lagoon - Adventure   \n",
       "3  Paramount Pictures       88  High Revenue           Airplane! - Comedy   \n",
       "4      Orion Pictures       98  High Revenue          Caddyshack - Comedy   \n",
       "5  Paramount Pictures       95  High Revenue     Friday the 13th - Horror   \n",
       "\n",
       "   movie_age  profit (in millions)  return_on_investment  \n",
       "0         45                  28.0                 147.0  \n",
       "1         45                  54.4                1209.0  \n",
       "3         45                  80.0                2286.0  \n",
       "4         45                  33.8                 563.0  \n",
       "5         45                  39.2                6533.0  "
      ]
     },
     "execution_count": 95,
     "metadata": {},
     "output_type": "execute_result"
    }
   ],
   "source": [
    "#Creating a dataframe named \"movies_3\" with the top 5 genres having more than 300 movies each.\n",
    "#.tolist() lists these top 5 genres.\n",
    "top_5_genres = movies_2[\"genre\"].value_counts().head().reset_index()\n",
    "best_genres = top_5_genres[\"genre\"].tolist()\n",
    "movies_3 = movies_2[movies_2[\"genre\"].isin(best_genres)]\n",
    "movies_3.head()"
   ]
  },
  {
   "cell_type": "code",
   "execution_count": 96,
   "metadata": {},
   "outputs": [
    {
     "data": {
      "text/plain": [
       "array(['Drama', 'Adventure', 'Comedy', 'Horror', 'Animation'],\n",
       "      dtype=object)"
      ]
     },
     "execution_count": 96,
     "metadata": {},
     "output_type": "execute_result"
    }
   ],
   "source": [
    "#Checking if the correct and required genres only exist in the dataframe.\n",
    "#.unique() lists the unique values of the column.\n",
    "movies_3[\"genre\"].unique()"
   ]
  },
  {
   "cell_type": "code",
   "execution_count": 97,
   "metadata": {},
   "outputs": [
    {
     "data": {
      "text/plain": [
       "<Figure size 1200x800 with 0 Axes>"
      ]
     },
     "metadata": {},
     "output_type": "display_data"
    },
    {
     "data": {
      "image/png": "[encoded data removed]",
      "text/plain": [
       "<Figure size 1440x640 with 5 Axes>"
      ]
     },
     "metadata": {},
     "output_type": "display_data"
    }
   ],
   "source": [
    "sns.set_style(\"darkgrid\")     #Sets the grid style under seaborn.\n",
    "plt.style.use(\"classic\")      #Sets the visual style under matplotlib.\n",
    "fig = plt.figure(figsize = (15, 10))  #Sets the size of the figure.\n",
    "g = sns.FacetGrid(data = movies_3,  \n",
    "                  col = \"genre\",\n",
    "                  col_wrap = 3,\n",
    "                  height = 4,\n",
    "                  aspect = 1.5)    #Creates a grid of subplots where column is based on the \"genre\" values and \"col_wrap\" specifies the number of columns to be present in the graph, along with the size (height and aspect) mentioned.\n",
    "g.map_dataframe(sns.scatterplot,\n",
    "                x = \"budget (in millions)\",\n",
    "                y = \"revenue (in millions)\",\n",
    "                alpha = 0.5)       #Creates scatter plots with x values, y values, and alpha(transparency level) as mentioned.\n",
    "g.set_axis_labels(\"Budget (in millions)\", \"Revenue (in millions)\")  #Sets the axes labels.\n",
    "g.set_titles(col_template = \"{col_name}\",\n",
    "            row_template = \"{row_name}\")  #Modifies the titles of each subplot.\n",
    "g.fig.suptitle(\"Relation Between Revenue and Budget of Genres with the Highest ROI\",\n",
    "              y = 1.02,\n",
    "              fontsize = 16)  #Sets the title for the entire graph along with its placement and font size.\n",
    "plt.savefig(\"relation_between_the_data_of_genres_with_the_highest_ROI.png\", format = \"png\", dpi = 300)  #Exports the visualisation as an image file.\n",
    "plt.tight_layout()  #Adjusts the placing between subplots automatically.\n",
    "plt.show()"
   ]
  },
  {
   "cell_type": "markdown",
   "metadata": {},
   "source": [
    "This small multiples graph has been created to compare the budget and revenue of the 5 genres with the most returns.\n",
    "X axis shows budget (in millions) and Y axis shows revenue (in millions) whereas the columns are based on genres.\n",
    "Genres like \"Animation\" and \"Adventure\" have movies with both low as well as high budget and revenue.\n",
    "\"Drama\" and \"Comedy\" can be seen as low and medium budget and revenue movies.\n",
    "\"Horror\" movies show low budget and low revenue movies.\n",
    "Most of the high budget movies in these genres also so high revenue."
   ]
  },
  {
   "cell_type": "markdown",
   "metadata": {},
   "source": [
    "Decision for the investors:-\n",
    "1. For investors willing to take risk for high return, \"Adventure\" and \"Animation\" are good options as their high budget movies also generate high revenue.\n",
    "2. For investors willing to take some risk, \"Comedy\" and \"Drama\" are good options as both the genres show low to medium budget values.\n",
    "3. For investors looking for minimum risk, \"Horror\" movies are suitable as the budget and revenue is less.\n",
    "\n",
    "Again, all these genres have very good returns as these are the top 5 genres based on ROI.\n",
    "So, even though the revenue and budget are low for \"Horror\" movies, the returns are high which is what attracts investors."
   ]
  },
  {
   "cell_type": "markdown",
   "metadata": {},
   "source": [
    "## Data export"
   ]
  },
  {
   "cell_type": "code",
   "execution_count": 101,
   "metadata": {},
   "outputs": [],
   "source": [
    "#Saving the cleaned and wrangled DataFrames to a new CSV file.\n",
    "movies.to_csv(\"movies_cleaned.csv\", index = False)\n",
    "movies_2.to_csv(\"movies_2_cleaned.csv\", index = False)\n",
    "movies_3.to_csv(\"movies_3_cleaned.csv\", index = False)"
   ]
  },
  {
   "cell_type": "markdown",
   "metadata": {},
   "source": [
    "## Conclusion"
   ]
  },
  {
   "cell_type": "markdown",
   "metadata": {},
   "source": [
    "The project has helped gain valuable insights on the movies dataset. However, there were certain limitations to overcome. First, during data cleaning it was found that few values under “IMDB_rating” and “vote_count” were missing. So, after some external research, all of these values except one were filled. The data for the one missing value in both the columns was not found anywhere and hence had to be filled with “0”. Second, the bar plot showcasing top genres with highest ROI shows “History” as the top genre. But after further analysis it was found that only one movie belonged to this genre. Hence the “History” genre had to be removed and only the genres with more than 300 movies (among the genres with highest ROI) was considered for further analysis. \r\n",
    "\r\n",
    "Future Improvements: Since this project focuses on providing investors/producers with data to assist in investment, it would be better to consider factors like IMDB rating as well as the star/director of the movie, along with the ROI (which was used for analysis in this project). Analysis based on the influence of particular stars/directors in the movie as well as the role of IMDB ratings in the success of the films would further help investors in taking decisions.\r\n",
    "\r\n",
    "This project provided great insights based on the options of investment in the movie industry. The aim of this project was also achieved by reaching all the objectives. It was found that the profit of movies shows an upward trend through the years which makes it a good investment option. Second, the genres with highest ROI was identified to guide investors in taking the right decision. Lastly, these top genres were analysed and the risk level associated with these genres were revealed.\r\n",
    "\r\n",
    "Recommendations:  For investors looking for a good rate of return with minimum risk and investment, “Horror” movies is the best option. Whereas investors who have good amount of funds and are willing to take risk for the possibility of a higher return, “Adventure” and “Animation” movies are good options. \r\n"
   ]
  },
  {
   "cell_type": "markdown",
   "metadata": {},
   "source": [
    "## Reference List / (Annotated) Bibliography"
   ]
  },
  {
   "cell_type": "markdown",
   "metadata": {},
   "source": [
    "1.\tAli, N.M., Abd El Hamid, M.M. and Youssif, A., 2019. Sentiment analysis for movies reviews dataset using deep learning models. International Journal of Data Mining & Knowledge Management Process (IJDKP) Vol, 9. Relevance of this source: Used to justify a statement in the literature review.\r\n",
    "2.\tFriedlob, G.T. and Plewa Jr, F.J., 1996. Understanding return on investment. John Wiley & Sons. Relevance of this source: Used to justify a statement in the literature review.\r\n",
    "3.\tGarcia-del-Barrio, P. and Zarco, H., 2017. Do movie contents influence box-office revenues?. Applied Economics, 49(17), pp.1679-1688. Relevance of this source: Assisted in grouping columns while filling missing revenue values by calculating the median revenue.\r\n",
    "4.\tKim, I. and Kim, H., 2018. The More, the Better? Movie Genre and Performance Analysis. Journal of Business and Educational Leadership, 7(1), pp.105-113. Relevance of this source: Assisted in grouping columns while filling missing budget values by calculating the median budget.\r\n",
    "5.\tKumar, A.M., Goh, J.Y., Tan, T.H. and Siew, C.S., 2022. Gender stereotypes in Hollywood movies and their evolution over Time: Insights from network analysis. Big Data and Cognitive Computing, 6(2), p.50. Relevance of this source: Used to justify a statement in the literature review.\r\n",
    "6.\tMartin Bel (2023) Line Charts in Python: Matplotlib, Seaborn, Plotly & Plotnine. 6 April. Available at: https://youtu.be/P6TLbGx0SOY?si=pnNFrj2dQ3vPYtK1 (Accessed: 25 December 2024). Relevance of this source: Assisted in making the small multiples visualisation.\r\n",
    "7.\tOpenAI (2025) ChatGPT (Version 2) [AI Model]. Available at: https://chat.openai.com (Accessed on: 2 January 2025). Relevance of this source: Used for exploring the various libraries and functions of Python.\r\n",
    "8.\tRavid, S.A., 1999. Information, blockbusters, and stars: A study of the film industry. The Journal of Business, 72(4), pp.463-492. Relevance of this source: Assisted in grouping columns while filling missing budget values by calculating the median budget.\r\n",
    "9.\tScott, A., 2002. A new map of Hollywood: the production and distribution of American motion pictures. Regional studies, 36(9), pp.957-975. Relevance of this source: Assisted in grouping columns while filling missing budget values by calculating the median budget.\r\n",
    "10.\tSinha, A.A., Krishna, S.V., Shedge, R. and Sinha, A., 2017, August. Movie production investment decision system. In 2017 International Conference on Energy, Communication, Data Analytics and Soft Computing (ICECDS) (pp. 494-498). IEEE. Relevance of this source: Used to justify a statement in the introduction.\r\n",
    "11.\tTeti, E., 2013. The dark side of the movie. The difficult balance between risk and return. Management Decision, 51(4), pp.730-741. Relevance of this source: Assisted in grouping columns while filling missing budget values by calculating the median budget. Also used in grouping columns while filling missing revenue values by calculating the median revenue.\r\n",
    "12.\tThe Tech Express (2024) Python Seaborn Data Visualisation – BAR PLOT WITH ANNOTATION. 10 February. Available at: https://youtu.be/TbhPF1_gZ1E?si=8VYANXfCZ0gjHrao (Accessed: 24 December 2024). Relevance of this source: Provided knowledge about annotations for seaborn bar plots.\r\n",
    "13.\tWalls, W.D. and McKenzie, J., 2012. The changing role of Hollywood in the global movie market. Journal of Media Economics, 25(4), pp.198-219. Relevance of this source: Assisted in grouping columns while filling missing revenue values by calculating the median revenue.\r\n",
    "14.\tXiao, X., Cheng, Y. and Kim, J.M., 2021. Movie title keywords: a text mining and exploratory factor analysis of popular movies in the United States and China. Journal of Risk and Financial Management, 14(2), p.68. Relevance of this source: Used to justify a statement in the literature review.\r\n",
    "15.\tZhang, W. and Skiena, S., 2009, September. Improving movie gross prediction through news analysis. In 2009 IEEE/WIC/ACM International Joint Conference on Web Intelligence and Intelligent Agent Technology (Vol. 1, pp. 301-304). IEEE. Relevance of this source: Used to justify a statement in the literature review.\r\n"
   ]
  }
 ],
 "metadata": {
  "kernelspec": {
   "display_name": "Python 3 (ipykernel)",
   "language": "python",
   "name": "python3"
  },
  "language_info": {
   "codemirror_mode": {
    "name": "ipython",
    "version": 3
   },
   "file_extension": ".py",
   "mimetype": "text/x-python",
   "name": "python",
   "nbconvert_exporter": "python",
   "pygments_lexer": "ipython3",
   "version": "3.12.4"
  }
 },
 "nbformat": 4,
 "nbformat_minor": 4
}
